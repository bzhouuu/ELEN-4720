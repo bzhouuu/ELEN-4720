{
 "cells": [
  {
   "cell_type": "code",
   "execution_count": 1,
   "metadata": {},
   "outputs": [],
   "source": [
    "import pandas as pd\n",
    "import numpy as np\n",
    "\n",
    "import matplotlib.pyplot as plt"
   ]
  },
  {
   "cell_type": "code",
   "execution_count": 157,
   "metadata": {},
   "outputs": [],
   "source": [
    "X = pd.read_csv('hw2-data/Bayes_classifier/X.csv', header=None)#.to_numpy()\n",
    "y = pd.read_csv('hw2-data/Bayes_classifier/y.csv', header=None)#.to_numpy()"
   ]
  },
  {
   "cell_type": "code",
   "execution_count": 4,
   "metadata": {},
   "outputs": [],
   "source": [
    "from sklearn.model_selection import KFold"
   ]
  },
  {
   "cell_type": "code",
   "execution_count": 179,
   "metadata": {},
   "outputs": [],
   "source": [
    "kf = KFold(n_splits=10, shuffle=True, random_state=0)\n",
    "for train_index, test_index in kf.split(X):\n",
    "#     print(\"TRAIN:\", train_index, \"TEST:\", test_index)\n",
    "#     print(len(train_index), len(test_index))\n",
    "#     X_train, X_test = X[train_index], X[test_index]\n",
    "#     y_train, y_test = y[train_index], y[test_index]\n",
    "    X_train, X_test = X.iloc[train_index, :], X.iloc[test_index, :]\n",
    "    y_train, y_test = y.iloc[train_index, :], y.iloc[test_index, :]\n",
    "    \n",
    "    lambdas = []\n",
    "    pi = y_train.mean()[0]\n",
    "    for yi in range(2):\n",
    "        lambdas.append(((1+X_train.loc[y_train[0]==yi, ].sum(axis=0).to_numpy())/(1+y_train.loc[y_train[0]==yi, ].shape[0])).tolist())\n",
    "#     no_y0 = y_train.loc[y_train[0]==0, ].shape[0]\n",
    "#     no_y1 = y_train.loc[y_train[0]==1, ].shape[0]\n",
    "#     lambda_y0 = ((1+X_train.loc[y_train[0]==0, ].sum(axis=0).to_numpy())/(1+no_y0)).tolist()\n",
    "#     lambda_y1 = ((1+X_train.loc[y_train[0]==1, ].sum(axis=0).to_numpy())/(1+no_y1)).tolist()\n",
    "#     lambdas.append(lambda_y0)\n",
    "#     lambdas.append(lambda_y1)\n",
    "\n",
    "    y_pred = np.zeros(y_test.shape[0])\n",
    "    for row in range(X_test.shape[0]):\n",
    "        p0 = np.log(1-pi)\n",
    "        p1 = np.log(pi)\n",
    "        for d in range(X_test.shape[1]):\n",
    "            p0 = p0 + X_test.iloc[row][d] * np.log(lambdas[0][d]) - lambdas[0][d]\n",
    "            p1 = p1 + X_test.iloc[row][d] * np.log(lambdas[1][d]) - lambdas[1][d]\n",
    "#         print(p0, p1)\n",
    "        if p0 > p1:\n",
    "#             print(0)\n",
    "            y_pred[row] = 0\n",
    "        else:\n",
    "            y_pred[row] = 1\n",
    "    break"
   ]
  },
  {
   "cell_type": "code",
   "execution_count": 183,
   "metadata": {},
   "outputs": [
    {
     "data": {
      "text/plain": [
       "0.8826086956521739"
      ]
     },
     "execution_count": 183,
     "metadata": {},
     "output_type": "execute_result"
    }
   ],
   "source": [
    "from sklearn.metrics import confusion_matrix\n",
    "from sklearn.metrics import accuracy_score\n",
    "confusion_matrix(y_test, y_pred)\n",
    "accuracy_score(y_test, y_pred)"
   ]
  },
  {
   "cell_type": "code",
   "execution_count": null,
   "metadata": {},
   "outputs": [],
   "source": []
  }
 ],
 "metadata": {
  "kernelspec": {
   "display_name": "Python 3",
   "language": "python",
   "name": "python3"
  },
  "language_info": {
   "codemirror_mode": {
    "name": "ipython",
    "version": 3
   },
   "file_extension": ".py",
   "mimetype": "text/x-python",
   "name": "python",
   "nbconvert_exporter": "python",
   "pygments_lexer": "ipython3",
   "version": "3.7.3"
  }
 },
 "nbformat": 4,
 "nbformat_minor": 4
}
