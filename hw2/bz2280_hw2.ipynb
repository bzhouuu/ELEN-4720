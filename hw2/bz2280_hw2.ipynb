{
 "cells": [
  {
   "cell_type": "code",
   "execution_count": 201,
   "metadata": {},
   "outputs": [],
   "source": [
    "import numpy as np\n",
    "import pandas as pd\n",
    "import operator\n",
    "import collections\n",
    "import matplotlib.pyplot as plt\n",
    "from tqdm import tqdm\n",
    "import time"
   ]
  },
  {
   "cell_type": "markdown",
   "metadata": {},
   "source": [
    "## Load data"
   ]
  },
  {
   "cell_type": "code",
   "execution_count": 498,
   "metadata": {},
   "outputs": [],
   "source": [
    "X = pd.read_csv('./hw2-data/Bayes_classifier/X.csv', header = None)\n",
    "y = pd.read_csv('./hw2-data/Bayes_classifier/y.csv', header = None)"
   ]
  },
  {
   "cell_type": "markdown",
   "metadata": {},
   "source": [
    "## Implement Naive Bayes"
   ]
  },
  {
   "cell_type": "markdown",
   "metadata": {},
   "source": [
    "Data: $ y_i \\approx Bern(\\pi)$\n",
    "\n",
    "$x_{i,d} \\mid y_i \\approx Pois(\\lambda_{y_i,d}), d = 1,..., D$\n",
    "\n",
    "Prior: $\\lambda_{y,d} \\approx Gamma(2,1)$\n",
    "\n",
    "Prediction: $y_0 = argmax \\space p(y_0 = y \\mid \\pi) \\prod_{d=1}^D p(x_{0,d} \\mid \\lambda_{y,d})$\n",
    "\n",
    "$y_0 = argmax_{y \\in Y} \\space \\hat{\\pi_{y}}\\prod_{d=1}^D \\frac{\\lambda^{x_0}e^{-\\lambda}}{x_0!}$\n",
    "\n",
    "Taking log: $y_0 = argmax \\space ln(\\hat{\\pi_{y}}) + \\sum_{d=1}^D x_{0,d} ln(\\hat{\\lambda}) - \\hat{\\lambda}$ (we remove the factorial term as it does not matter here)\n",
    "\n",
    "Results from question 1:\n",
    "\n",
    "$\\hat{\\pi} = \\frac{\\sum(y_i)}{n}$\n",
    "\n",
    "$\\hat{\\lambda} = \\frac{1 + \\sum x_{i,d} \\mathbb{1}\\{y_i = y\\}}{1 + \\sum \\mathbb{1}\\{y_i = y\\}}$"
   ]
  },
  {
   "cell_type": "code",
   "execution_count": 179,
   "metadata": {},
   "outputs": [],
   "source": [
    "# observations in class y over # observations in total\n",
    "def get_prior(y):\n",
    "    rst = {}\n",
    "    cnt = collections.Counter(np.squeeze(np.asarray(y)))\n",
    "    total = y.shape[0]\n",
    "    \n",
    "    for i in np.unique(y):\n",
    "        rst[i] = cnt[i]/total\n",
    "    \n",
    "    return rst"
   ]
  },
  {
   "cell_type": "code",
   "execution_count": 329,
   "metadata": {},
   "outputs": [],
   "source": [
    "# answer to 1b\n",
    "def pois_mle(x, y, y_tar, d):\n",
    "    \n",
    "    idx = np.where(y == y_tar)[0]\n",
    "    \n",
    "    sum_x = x[:, d][idx].sum()\n",
    "    N_y = idx.shape[0]\n",
    "    \n",
    "#     for i in range(x.shape[0]):\n",
    "#         if y[i] == y_tar:\n",
    "#             N_y += 1\n",
    "#             sum_x += x.T[d][i]\n",
    "    \n",
    "    return (1+sum_x)/(1+N_y)"
   ]
  },
  {
   "cell_type": "code",
   "execution_count": 321,
   "metadata": {},
   "outputs": [],
   "source": [
    "# we use the result after taking log\n",
    "def get_likelihood(param, d, x):\n",
    "    # d = dimension\n",
    "    # param = poisson mle\n",
    "    rst = x[d] * np.log(param) - param\n",
    "    \n",
    "    return rst\n",
    "    "
   ]
  },
  {
   "cell_type": "code",
   "execution_count": 332,
   "metadata": {},
   "outputs": [],
   "source": [
    "def get_pred(x, x_t, y):\n",
    "    D = x.shape[1]\n",
    "    prior = get_prior(y)\n",
    "    #print(prior)\n",
    "    \n",
    "    prev = np.ones(2)\n",
    "    \n",
    "    # for each y (also the y_target)\n",
    "    for i in np.unique(y):\n",
    "        total = 0\n",
    "        for d in range(D):\n",
    "            lmda = pois_mle(x, y, i, d)\n",
    "            #print(lmda)\n",
    "            \n",
    "            likelihood = get_likelihood(lmda, d, x_t)\n",
    "            \n",
    "            \n",
    "            total = total + likelihood\n",
    "        \n",
    "        prev[i] = total + np.log(prior[i])\n",
    "        \n",
    "    prediction = prev.argmax()\n",
    "    \n",
    "    return prediction"
   ]
  },
  {
   "cell_type": "code",
   "execution_count": 503,
   "metadata": {},
   "outputs": [],
   "source": [
    "X = X.to_numpy()\n",
    "y = y.to_numpy()"
   ]
  },
  {
   "cell_type": "code",
   "execution_count": 333,
   "metadata": {},
   "outputs": [
    {
     "name": "stdout",
     "output_type": "stream",
     "text": [
      "--- 26.97141408920288 seconds ---\n"
     ]
    }
   ],
   "source": [
    "start_time = time.time()\n",
    "from sklearn.model_selection import KFold\n",
    "kf = KFold(n_splits = 10, shuffle = True, random_state = 0)\n",
    "\n",
    "TP = 0\n",
    "FN = 0\n",
    "FP = 0\n",
    "TN = 0\n",
    "\n",
    "for train_idx, test_idx in kf.split(X, y):\n",
    "\n",
    "    for i in range(X[test_idx].shape[0]):\n",
    "        \n",
    "        t = y[test_idx][i]\n",
    "        pred = get_pred(X[train_idx], X[test_idx][i], y[train_idx])\n",
    "        \n",
    "        if t == 1 and pred == 1:\n",
    "            TP += 1\n",
    "        if t == 0 and pred == 1:\n",
    "            FP += 1\n",
    "        if t == 1 and pred == 0:\n",
    "            FN += 1\n",
    "        if t == 0 and pred == 0:\n",
    "            TN += 1  \n",
    "\n",
    "print(\"--- %s seconds ---\" % (time.time() - start_time))"
   ]
  },
  {
   "cell_type": "code",
   "execution_count": 238,
   "metadata": {},
   "outputs": [],
   "source": [
    "TP_s = TP\n",
    "FP_s = FP\n",
    "FN_s = FN\n",
    "TN_s = TN"
   ]
  },
  {
   "cell_type": "code",
   "execution_count": 334,
   "metadata": {},
   "outputs": [],
   "source": [
    "rst = pd.DataFrame(index = ['pred_1', 'pred_0'], columns = ['y_1', 'y_0'])"
   ]
  },
  {
   "cell_type": "code",
   "execution_count": 335,
   "metadata": {},
   "outputs": [],
   "source": [
    "rst.iloc[0,0] = TP\n",
    "rst.iloc[0,1] = FP\n",
    "rst.iloc[1,0] = FN\n",
    "rst.iloc[1,1] = TN"
   ]
  },
  {
   "cell_type": "code",
   "execution_count": 336,
   "metadata": {},
   "outputs": [
    {
     "data": {
      "text/html": [
       "<div>\n",
       "<style scoped>\n",
       "    .dataframe tbody tr th:only-of-type {\n",
       "        vertical-align: middle;\n",
       "    }\n",
       "\n",
       "    .dataframe tbody tr th {\n",
       "        vertical-align: top;\n",
       "    }\n",
       "\n",
       "    .dataframe thead th {\n",
       "        text-align: right;\n",
       "    }\n",
       "</style>\n",
       "<table border=\"1\" class=\"dataframe\">\n",
       "  <thead>\n",
       "    <tr style=\"text-align: right;\">\n",
       "      <th></th>\n",
       "      <th>y_1</th>\n",
       "      <th>y_0</th>\n",
       "    </tr>\n",
       "  </thead>\n",
       "  <tbody>\n",
       "    <tr>\n",
       "      <th>pred_1</th>\n",
       "      <td>1714</td>\n",
       "      <td>492</td>\n",
       "    </tr>\n",
       "    <tr>\n",
       "      <th>pred_0</th>\n",
       "      <td>99</td>\n",
       "      <td>2295</td>\n",
       "    </tr>\n",
       "  </tbody>\n",
       "</table>\n",
       "</div>"
      ],
      "text/plain": [
       "         y_1   y_0\n",
       "pred_1  1714   492\n",
       "pred_0    99  2295"
      ]
     },
     "execution_count": 336,
     "metadata": {},
     "output_type": "execute_result"
    }
   ],
   "source": [
    "rst"
   ]
  },
  {
   "cell_type": "code",
   "execution_count": 337,
   "metadata": {},
   "outputs": [
    {
     "data": {
      "text/plain": [
       "0.8715217391304347"
      ]
     },
     "execution_count": 337,
     "metadata": {},
     "output_type": "execute_result"
    }
   ],
   "source": [
    "acc = (TP + TN)/(TP + FP + FN + TN)\n",
    "acc"
   ]
  },
  {
   "cell_type": "markdown",
   "metadata": {},
   "source": [
    "## Stem plot"
   ]
  },
  {
   "cell_type": "code",
   "execution_count": 338,
   "metadata": {},
   "outputs": [],
   "source": [
    "def get_lamdals(x, x_t, y):\n",
    "    D = x.shape[1]\n",
    "    prior = get_prior(y)\n",
    "    #print(prior)\n",
    "    \n",
    "    prev = np.ones(2)\n",
    "    \n",
    "    lmda_ls_0 = []\n",
    "    lmda_ls_1 = []\n",
    "    \n",
    "    # for each y (also the y_target)\n",
    "    for i in np.unique(y):\n",
    "        total = 0\n",
    "        for d in range(D):\n",
    "            lmda = pois_mle(x, y, i, d)\n",
    "            \n",
    "            if i == 0:\n",
    "                lmda_ls_0.append(lmda)\n",
    "            if i == 1:\n",
    "                lmda_ls_1.append(lmda)\n",
    "    \n",
    "    return lmda_ls_0, lmda_ls_1"
   ]
  },
  {
   "cell_type": "code",
   "execution_count": 340,
   "metadata": {},
   "outputs": [],
   "source": [
    "from sklearn.model_selection import KFold\n",
    "kf = KFold(n_splits = 10, shuffle = True, random_state = 0)"
   ]
  },
  {
   "cell_type": "code",
   "execution_count": 348,
   "metadata": {},
   "outputs": [
    {
     "data": {
      "text/plain": [
       "1"
      ]
     },
     "execution_count": 348,
     "metadata": {},
     "output_type": "execute_result"
    }
   ],
   "source": [
    "len(param_ls_1)"
   ]
  },
  {
   "cell_type": "code",
   "execution_count": 350,
   "metadata": {},
   "outputs": [
    {
     "name": "stdout",
     "output_type": "stream",
     "text": [
      "--- 27.911426067352295 seconds ---\n"
     ]
    }
   ],
   "source": [
    "start_time = time.time()\n",
    "\n",
    "param_ls_0 = []\n",
    "param_ls_1 = []\n",
    "    \n",
    "for train_idx, test_idx in kf.split(X, y):\n",
    "\n",
    "    for i in range(X[test_idx].shape[0]):\n",
    "        \n",
    "        t = y[test_idx][i]\n",
    "        ls0, ls1 = get_lamdals(X[train_idx], X[test_idx][i], y[train_idx])\n",
    "    \n",
    "    param_ls_0.append(ls0)\n",
    "    param_ls_1.append(ls1)\n",
    "        \n",
    "param_0 = np.array(param_ls_0)\n",
    "param_1 = np.array(param_ls_1)\n",
    "        \n",
    "print(\"--- %s seconds ---\" % (time.time() - start_time))"
   ]
  },
  {
   "cell_type": "code",
   "execution_count": 362,
   "metadata": {},
   "outputs": [],
   "source": [
    "mean_0 = []\n",
    "mean_1 = []\n",
    "\n",
    "for i in range(param_0.shape[1]):\n",
    "    mean_0.append(param_0[:,i].mean())\n",
    "    mean_1.append(param_1[:,i].mean())\n"
   ]
  },
  {
   "cell_type": "code",
   "execution_count": 387,
   "metadata": {
    "scrolled": false
   },
   "outputs": [
    {
     "data": {
      "image/png": "[encoded data removed]",
      "text/plain": [
       "<Figure size 720x432 with 1 Axes>"
      ]
     },
     "metadata": {
      "needs_background": "light"
     },
     "output_type": "display_data"
    }
   ],
   "source": [
    "fig, ax = plt.subplots(1,1, figsize = (10, 6))\n",
    "\n",
    "ax.stem(range(1,param_0.shape[1]+1), mean_0, markerfmt = 'ro', label = 'y_0');\n",
    "ax.stem(range(1,param_0.shape[1]+1), mean_1, markerfmt = 'bo', label = 'y_1');\n",
    "ax.set_xlabel('Dimension');\n",
    "ax.set_ylabel('$\\lambda$');\n",
    "ax.set_title('Average Lambda Across the 10 Runs for Each Dimension');\n",
    "ax.legend();\n",
    "fig.savefig('2b');\n",
    "\n"
   ]
  },
  {
   "cell_type": "markdown",
   "metadata": {},
   "source": [
    "## $d_{16}$ is 'free' and $d_{52}$ is '!'. They both have higher lambda for y when y = 1, than when y = 0. This seems to suggest that emails with 'free' and '!' are likely to be spam emails."
   ]
  },
  {
   "cell_type": "markdown",
   "metadata": {},
   "source": [
    "## Implement k-NN"
   ]
  },
  {
   "cell_type": "code",
   "execution_count": 228,
   "metadata": {},
   "outputs": [],
   "source": [
    "# define distance function\n",
    "# here we are using l1 distance\n",
    "def l1_distance(v1, v2):\n",
    "    return np.sum(np.abs(v1 - v2))"
   ]
  },
  {
   "cell_type": "code",
   "execution_count": 552,
   "metadata": {},
   "outputs": [
    {
     "data": {
      "text/plain": [
       "(4600, 54)"
      ]
     },
     "execution_count": 552,
     "metadata": {},
     "output_type": "execute_result"
    }
   ],
   "source": [
    "X.shape"
   ]
  },
  {
   "cell_type": "code",
   "execution_count": 556,
   "metadata": {},
   "outputs": [],
   "source": [
    "# store all the distances\n",
    "neighbors_list = []\n",
    "for i in range(X.shape[0]):\n",
    "    distance = []\n",
    "    neighbors = []\n",
    "    for j in range(X.shape[0]):\n",
    "        if i == j:\n",
    "            continue\n",
    "        else:\n",
    "            dist = l1_distance(X[i], X[j])\n",
    "            distance.append((j, dist)) \n",
    "    \n",
    "    distance.sort(key = operator.itemgetter(1))\n",
    "    \n",
    "    for k_i in range(X.shape[0]-1):\n",
    "        neighbors.append(distance[k_i][0])\n",
    "            \n",
    "    neighbors_list.append(neighbors)"
   ]
  },
  {
   "cell_type": "code",
   "execution_count": 533,
   "metadata": {},
   "outputs": [
    {
     "data": {
      "text/plain": [
       "(20,)"
      ]
     },
     "execution_count": 533,
     "metadata": {},
     "output_type": "execute_result"
    }
   ],
   "source": [
    "neighbors_list[0].shape"
   ]
  },
  {
   "cell_type": "code",
   "execution_count": 836,
   "metadata": {},
   "outputs": [],
   "source": [
    "# return the majority-vote to predict\n",
    "def predict_knn(knn, y_train):\n",
    "    \n",
    "    vote = []\n",
    "    \n",
    "    for i in range(knn.shape[0]):\n",
    "        #print(y_train[i])\n",
    "        vote.append(y_train[i][0])\n",
    "        #print(111111)\n",
    "        #print(sum(vote))\n",
    "        #print(len(vote))\n",
    "    \n",
    "    # calculate majority\n",
    "    chance = sum(vote)/len(vote)\n",
    "    if chance > 0.5:\n",
    "        return 1\n",
    "    else:\n",
    "        return 0"
   ]
  },
  {
   "cell_type": "code",
   "execution_count": 827,
   "metadata": {},
   "outputs": [],
   "source": [
    "def accuracy(pred, y_test):\n",
    "    #y_test = np.squeeze(y_train.to_numpy())\n",
    "    count = 0\n",
    "    for idx in range(len(pred)):\n",
    "        if pred[idx] == y_test[idx]:\n",
    "            count += 1\n",
    "    \n",
    "    return count/len(pred)"
   ]
  },
  {
   "cell_type": "code",
   "execution_count": 828,
   "metadata": {},
   "outputs": [],
   "source": [
    "neighbors_list = np.asarray(neighbors_list)"
   ]
  },
  {
   "cell_type": "code",
   "execution_count": 829,
   "metadata": {},
   "outputs": [],
   "source": [
    "start_time = time.time()\n",
    "from sklearn.model_selection import KFold\n",
    "kf = KFold(n_splits = 10, shuffle = True, random_state = 0)"
   ]
  },
  {
   "cell_type": "code",
   "execution_count": 837,
   "metadata": {},
   "outputs": [
    {
     "name": "stdout",
     "output_type": "stream",
     "text": [
      "--- 1336.2265720367432 seconds ---\n"
     ]
    }
   ],
   "source": [
    "acc = []\n",
    "for train_idx, test_idx in kf.split(X, y):\n",
    "    t_id = test_idx.tolist()\n",
    "    #print(t_id)\n",
    "    # we first remove all train in knn\n",
    "    # i.e., we only want the knn for each test id\n",
    "    knn = neighbors_list[test_idx]\n",
    "\n",
    "    y_train = y[train_idx]\n",
    "    y_test = y[test_idx]\n",
    "    \n",
    "    y_train = np.squeeze(y_train)\n",
    "    y_test = np.squeeze(y_test)\n",
    "    \n",
    "    k_acc = []\n",
    "    for k in range(1, 21):\n",
    "        pred = []\n",
    "        \n",
    "        # then for every test id knn\n",
    "        # we remove all other test id in knn\n",
    "        # i.e., we take all the train id\n",
    "        # get top k list\n",
    "        for i in range(X_test.shape[0]):\n",
    "            top_k = []\n",
    "            k_id = knn[i]\n",
    "            \n",
    "            count = 0\n",
    "            for j in range(k_id.shape[0]):\n",
    "                if k_id[j] not in test_idx:\n",
    "                    top_k.append(k_id[j])\n",
    "                    count += 1\n",
    "                    \n",
    "                    if count == k:\n",
    "                        break\n",
    "                else:\n",
    "                    continue\n",
    "        \n",
    "            top_k = np.asarray(top_k)\n",
    "            #print(top_k)\n",
    "            y_idx = y[top_k]\n",
    "        #print(y_idx)\n",
    "\n",
    "            pred.append(predict_knn(top_k, y_idx))\n",
    "            #print(pred)\n",
    "        \n",
    "        k_acc.append(accuracy(pred, y_test))\n",
    "        \n",
    "    acc.append(k_acc)\n",
    "\n",
    "print(\"--- %s seconds ---\" % (time.time() - start_time))"
   ]
  },
  {
   "cell_type": "code",
   "execution_count": 838,
   "metadata": {},
   "outputs": [],
   "source": [
    "acc = np.asarray(acc)"
   ]
  },
  {
   "cell_type": "code",
   "execution_count": 839,
   "metadata": {},
   "outputs": [],
   "source": [
    "rst = np.mean(acc, axis = 0)"
   ]
  },
  {
   "cell_type": "code",
   "execution_count": 840,
   "metadata": {},
   "outputs": [
    {
     "data": {
      "text/plain": [
       "array([0.88630435, 0.87195652, 0.8826087 , 0.88217391, 0.88826087,\n",
       "       0.88195652, 0.88391304, 0.88021739, 0.87913043, 0.88804348,\n",
       "       0.88934783, 0.905     , 0.90717391, 0.90673913, 0.9073913 ,\n",
       "       0.90456522, 0.90695652, 0.90391304, 0.90347826, 0.89978261])"
      ]
     },
     "execution_count": 840,
     "metadata": {},
     "output_type": "execute_result"
    }
   ],
   "source": [
    "rst"
   ]
  },
  {
   "cell_type": "code",
   "execution_count": 841,
   "metadata": {},
   "outputs": [],
   "source": [
    "x = [*range(1,21,1)]"
   ]
  },
  {
   "cell_type": "code",
   "execution_count": 842,
   "metadata": {},
   "outputs": [
    {
     "data": {
      "image/png": "[encoded data removed]",
      "text/plain": [
       "<Figure size 432x288 with 1 Axes>"
      ]
     },
     "metadata": {
      "needs_background": "light"
     },
     "output_type": "display_data"
    }
   ],
   "source": [
    "plt.plot(x,rst);\n",
    "plt.xticks([0,2,4,6,8,10,12,14,16,18,20]);\n",
    "plt.xlabel('k');\n",
    "plt.ylabel('accuracy');\n",
    "plt.title('accuracy plot for knn');\n",
    "plt.savefig('2c')"
   ]
  },
  {
   "cell_type": "markdown",
   "metadata": {},
   "source": [
    "# Problem 3"
   ]
  },
  {
   "cell_type": "markdown",
   "metadata": {},
   "source": [
    "## Implement Gaussian process"
   ]
  },
  {
   "cell_type": "code",
   "execution_count": 391,
   "metadata": {},
   "outputs": [],
   "source": [
    "X_train = pd.read_csv('./hw2-data/Gaussian_process/X_train.csv', header = None)\n",
    "X_test = pd.read_csv('./hw2-data/Gaussian_process/X_test.csv', header = None)\n",
    "y_train = pd.read_csv('./hw2-data/Gaussian_process/y_train.csv', header = None)\n",
    "y_test = pd.read_csv('./hw2-data/Gaussian_process/y_test.csv', header = None)"
   ]
  },
  {
   "cell_type": "code",
   "execution_count": 392,
   "metadata": {},
   "outputs": [],
   "source": [
    "X_train = X_train.to_numpy()\n",
    "X_test = X_test.to_numpy()\n",
    "y_train = y_train.to_numpy()\n",
    "y_test = y_test.to_numpy()"
   ]
  },
  {
   "cell_type": "markdown",
   "metadata": {},
   "source": [
    "## Write code and make prediction on test set"
   ]
  },
  {
   "cell_type": "code",
   "execution_count": 198,
   "metadata": {},
   "outputs": [],
   "source": [
    "def kernel(b, x1, x2):\n",
    "    dist = np.sum(x1**2, 1).reshape(-1,1) + np.sum(x2**2, 1) - 2 * np.dot(x1, x2.T)\n",
    "    \n",
    "    return np.exp(-dist/b)"
   ]
  },
  {
   "cell_type": "code",
   "execution_count": 199,
   "metadata": {},
   "outputs": [],
   "source": [
    "# the prediction\n",
    "def expectation(b, sig2, x_new, x, y):\n",
    "\n",
    "    # K(X,X)\n",
    "    K_n = kernel(b, x, x)\n",
    "    \n",
    "    m_inv = sig2*np.eye(len(x))\n",
    "    \n",
    "    K_inv = np.linalg.inv(K_n + m_inv)\n",
    "    \n",
    "    # K(X,x_0)\n",
    "    K_xd = kernel(b, x, x_new)\n",
    "    \n",
    "    return np.dot(np.dot(K_xd.T, K_inv), y)"
   ]
  },
  {
   "cell_type": "markdown",
   "metadata": {},
   "source": [
    "## For $b \\in \\{5, 7, 9, 11, 13, 15\\}$ and $\\sigma^2 \\in \\{.1, .2, .3, .4, .5, .6, .7, .8, .9, 1\\}$"
   ]
  },
  {
   "cell_type": "code",
   "execution_count": 200,
   "metadata": {},
   "outputs": [],
   "source": [
    "def get_rmse(test, pred):\n",
    "    rmse = np.sqrt(np.sum(np.square(test - pred))/len(test))\n",
    "    #print(rmse)\n",
    "    return rmse"
   ]
  },
  {
   "cell_type": "code",
   "execution_count": 201,
   "metadata": {},
   "outputs": [],
   "source": [
    "b_ls = [5, 7, 9, 11, 13, 15]\n",
    "sig_ls = [.1, .2, .3, .4, .5, .6, .7, .8, .9, 1]\n",
    "\n",
    "rst_matrix = pd.DataFrame(index = b_ls, columns = sig_ls)\n",
    "\n",
    "for b in b_ls:\n",
    "    for sig2 in sig_ls:\n",
    "        mean = expectation(b, sig2, X_test, X_train, y_train)\n",
    "        rmse = get_rmse(y_test, mean)\n",
    "        rst_matrix.loc[b,sig2] = rmse\n",
    "        "
   ]
  },
  {
   "cell_type": "code",
   "execution_count": 202,
   "metadata": {},
   "outputs": [
    {
     "data": {
      "text/html": [
       "<div>\n",
       "<style scoped>\n",
       "    .dataframe tbody tr th:only-of-type {\n",
       "        vertical-align: middle;\n",
       "    }\n",
       "\n",
       "    .dataframe tbody tr th {\n",
       "        vertical-align: top;\n",
       "    }\n",
       "\n",
       "    .dataframe thead th {\n",
       "        text-align: right;\n",
       "    }\n",
       "</style>\n",
       "<table border=\"1\" class=\"dataframe\">\n",
       "  <thead>\n",
       "    <tr style=\"text-align: right;\">\n",
       "      <th></th>\n",
       "      <th>0.1</th>\n",
       "      <th>0.2</th>\n",
       "      <th>0.3</th>\n",
       "      <th>0.4</th>\n",
       "      <th>0.5</th>\n",
       "      <th>0.6</th>\n",
       "      <th>0.7</th>\n",
       "      <th>0.8</th>\n",
       "      <th>0.9</th>\n",
       "      <th>1.0</th>\n",
       "    </tr>\n",
       "  </thead>\n",
       "  <tbody>\n",
       "    <tr>\n",
       "      <th>5</th>\n",
       "      <td>1.96628</td>\n",
       "      <td>1.93314</td>\n",
       "      <td>1.92342</td>\n",
       "      <td>1.9222</td>\n",
       "      <td>1.92477</td>\n",
       "      <td>1.92921</td>\n",
       "      <td>1.93464</td>\n",
       "      <td>1.94059</td>\n",
       "      <td>1.94682</td>\n",
       "      <td>1.95321</td>\n",
       "    </tr>\n",
       "    <tr>\n",
       "      <th>7</th>\n",
       "      <td>1.92016</td>\n",
       "      <td>1.90488</td>\n",
       "      <td>1.90808</td>\n",
       "      <td>1.9159</td>\n",
       "      <td>1.92481</td>\n",
       "      <td>1.9337</td>\n",
       "      <td>1.94226</td>\n",
       "      <td>1.95038</td>\n",
       "      <td>1.9581</td>\n",
       "      <td>1.96544</td>\n",
       "    </tr>\n",
       "    <tr>\n",
       "      <th>9</th>\n",
       "      <td>1.89765</td>\n",
       "      <td>1.90252</td>\n",
       "      <td>1.91765</td>\n",
       "      <td>1.93252</td>\n",
       "      <td>1.9457</td>\n",
       "      <td>1.95724</td>\n",
       "      <td>1.96741</td>\n",
       "      <td>1.97649</td>\n",
       "      <td>1.98474</td>\n",
       "      <td>1.99234</td>\n",
       "    </tr>\n",
       "    <tr>\n",
       "      <th>11</th>\n",
       "      <td>1.89051</td>\n",
       "      <td>1.91498</td>\n",
       "      <td>1.93885</td>\n",
       "      <td>1.95794</td>\n",
       "      <td>1.97322</td>\n",
       "      <td>1.98577</td>\n",
       "      <td>1.99638</td>\n",
       "      <td>2.00561</td>\n",
       "      <td>2.01384</td>\n",
       "      <td>2.02135</td>\n",
       "    </tr>\n",
       "    <tr>\n",
       "      <th>13</th>\n",
       "      <td>1.89585</td>\n",
       "      <td>1.93559</td>\n",
       "      <td>1.9646</td>\n",
       "      <td>1.9855</td>\n",
       "      <td>2.00132</td>\n",
       "      <td>2.01388</td>\n",
       "      <td>2.02431</td>\n",
       "      <td>2.03331</td>\n",
       "      <td>2.04132</td>\n",
       "      <td>2.04864</td>\n",
       "    </tr>\n",
       "    <tr>\n",
       "      <th>15</th>\n",
       "      <td>1.90961</td>\n",
       "      <td>1.95955</td>\n",
       "      <td>1.99081</td>\n",
       "      <td>2.01192</td>\n",
       "      <td>2.02737</td>\n",
       "      <td>2.03947</td>\n",
       "      <td>2.04947</td>\n",
       "      <td>2.05811</td>\n",
       "      <td>2.06585</td>\n",
       "      <td>2.07298</td>\n",
       "    </tr>\n",
       "  </tbody>\n",
       "</table>\n",
       "</div>"
      ],
      "text/plain": [
       "        0.1      0.2      0.3      0.4      0.5      0.6      0.7      0.8  \\\n",
       "5   1.96628  1.93314  1.92342   1.9222  1.92477  1.92921  1.93464  1.94059   \n",
       "7   1.92016  1.90488  1.90808   1.9159  1.92481   1.9337  1.94226  1.95038   \n",
       "9   1.89765  1.90252  1.91765  1.93252   1.9457  1.95724  1.96741  1.97649   \n",
       "11  1.89051  1.91498  1.93885  1.95794  1.97322  1.98577  1.99638  2.00561   \n",
       "13  1.89585  1.93559   1.9646   1.9855  2.00132  2.01388  2.02431  2.03331   \n",
       "15  1.90961  1.95955  1.99081  2.01192  2.02737  2.03947  2.04947  2.05811   \n",
       "\n",
       "        0.9      1.0  \n",
       "5   1.94682  1.95321  \n",
       "7    1.9581  1.96544  \n",
       "9   1.98474  1.99234  \n",
       "11  2.01384  2.02135  \n",
       "13  2.04132  2.04864  \n",
       "15  2.06585  2.07298  "
      ]
     },
     "execution_count": 202,
     "metadata": {},
     "output_type": "execute_result"
    }
   ],
   "source": [
    "rst_matrix"
   ]
  },
  {
   "cell_type": "markdown",
   "metadata": {},
   "source": [
    "## The best value is 1.89 when b = 11, $\\sigma^2 = 0.1$; the result is better than the first homework (around 2.2). The drawback might be the computation time. We are inverting nxn matrix here whereas in hw1 we are inverting dxd matrix. Thus, if n grows, computation might become expensive. Also feature selection is easier and more intuitive with ridge regression as compared to here."
   ]
  },
  {
   "cell_type": "markdown",
   "metadata": {},
   "source": [
    "## Only the 4th dimension; b = 5, $\\sigma^2 = 2$"
   ]
  },
  {
   "cell_type": "code",
   "execution_count": 310,
   "metadata": {},
   "outputs": [],
   "source": [
    "X_train = pd.read_csv('./hw2-data/Gaussian_process/X_train.csv', header = None)\n",
    "X_test = pd.read_csv('./hw2-data/Gaussian_process/X_test.csv', header = None)\n",
    "y_train = pd.read_csv('./hw2-data/Gaussian_process/y_train.csv', header = None)\n",
    "y_test = pd.read_csv('./hw2-data/Gaussian_process/y_test.csv', header = None)"
   ]
  },
  {
   "cell_type": "code",
   "execution_count": 311,
   "metadata": {},
   "outputs": [],
   "source": [
    "x_d = X_train.loc[:,3].to_numpy().reshape(-1, 1)\n",
    "y_train = y_train.to_numpy()\n",
    "y_test = y_test.to_numpy()\n",
    "\n",
    "mean_d = expectation(5, 2, x_d, x_d, y_train)"
   ]
  },
  {
   "cell_type": "code",
   "execution_count": 326,
   "metadata": {},
   "outputs": [],
   "source": [
    "idx = np.argsort(x_d.flatten())"
   ]
  },
  {
   "cell_type": "code",
   "execution_count": 329,
   "metadata": {
    "scrolled": true
   },
   "outputs": [
    {
     "data": {
      "image/png": "[encoded data removed]",
      "text/plain": [
       "<Figure size 432x288 with 1 Axes>"
      ]
     },
     "metadata": {
      "needs_background": "light"
     },
     "output_type": "display_data"
    }
   ],
   "source": [
    "plt.plot(x_d.flatten()[idx], mean_d.flatten()[idx], 'b-');\n",
    "plt.scatter(x_d, y_train);\n",
    "plt.xlabel('Car Weight');\n",
    "plt.ylabel('y');\n",
    "plt.title('Visualization of Gaussian Process');\n",
    "plt.savefig('3d')"
   ]
  }
 ],
 "metadata": {
  "kernelspec": {
   "display_name": "Python 3",
   "language": "python",
   "name": "python3"
  },
  "language_info": {
   "codemirror_mode": {
    "name": "ipython",
    "version": 3
   },
   "file_extension": ".py",
   "mimetype": "text/x-python",
   "name": "python",
   "nbconvert_exporter": "python",
   "pygments_lexer": "ipython3",
   "version": "3.7.3"
  }
 },
 "nbformat": 4,
 "nbformat_minor": 2
}
