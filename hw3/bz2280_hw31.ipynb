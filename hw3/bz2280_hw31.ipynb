{
 "cells": [
  {
   "cell_type": "code",
   "execution_count": 2,
   "metadata": {},
   "outputs": [],
   "source": [
    "import numpy as np\n",
    "import pandas as pd\n",
    "import matplotlib.pyplot as plt"
   ]
  },
  {
   "cell_type": "markdown",
   "metadata": {},
   "source": [
    "# Problem 1: K-means\n",
    "\n",
    "### Generate 500 observations from a mixture of three Guassians with mixing weights $\\pi$ = [0.2, 0.5, 0.3], and means and covariances as:\n",
    "\n",
    "### $\\mu_1 = \\begin{bmatrix}\n",
    "  0\\\\ \n",
    "  0\n",
    "\\end{bmatrix}$, $\\Sigma_1 = \\begin{bmatrix}\n",
    "  1 & 0\\\\ \n",
    "  0 & 1\n",
    "\\end{bmatrix}$ \n",
    "\n",
    "###  $\\mu_2 = \\begin{bmatrix}\n",
    "  3\\\\ \n",
    "  0\n",
    "\\end{bmatrix}$, $\\Sigma_2 = \\begin{bmatrix}\n",
    "  1 & 0\\\\ \n",
    "  0 & 1\n",
    "\\end{bmatrix}$ \n",
    "\n",
    "### $\\mu_3 = \\begin{bmatrix}\n",
    "  0\\\\ \n",
    "  3\n",
    "\\end{bmatrix}$, $\\Sigma_3 = \\begin{bmatrix}\n",
    "  1 & 0\\\\ \n",
    "  0 & 1\n",
    "\\end{bmatrix}$ "
   ]
  },
  {
   "cell_type": "code",
   "execution_count": 6,
   "metadata": {},
   "outputs": [],
   "source": [
    "# data generating process\n",
    "cov = np.matrix([[1,0],[0,1]])\n",
    "mean1 = np.array([0,0])\n",
    "mean2 = np.array([3,0])\n",
    "mean3 = np.array([0,3])\n",
    "\n",
    "gauss1 = np.random.multivariate_normal(mean1, cov, 500)\n",
    "gauss2 = np.random.multivariate_normal(mean2, cov, 500)\n",
    "gauss3 = np.random.multivariate_normal(mean3, cov, 500)"
   ]
  },
  {
   "cell_type": "markdown",
   "metadata": {},
   "source": [
    "a) For K = 2,3,4,5, plot the value of the K-means objective function per iteration for 20 iterations"
   ]
  },
  {
   "cell_type": "code",
   "execution_count": 11,
   "metadata": {},
   "outputs": [],
   "source": [
    "# set up\n",
    "n_iter = 20\n",
    "K = [2,3,4,5]"
   ]
  },
  {
   "cell_type": "code",
   "execution_count": 16,
   "metadata": {},
   "outputs": [],
   "source": [
    "# randomly initialize centroid\n",
    "centroids = np.random.rand(2, np.shape(gauss1)[1])"
   ]
  },
  {
   "cell_type": "code",
   "execution_count": 45,
   "metadata": {},
   "outputs": [
    {
     "data": {
      "text/plain": [
       "array([[0.12796472, 0.05548427],\n",
       "       [0.30279493, 0.77408791]])"
      ]
     },
     "execution_count": 45,
     "metadata": {},
     "output_type": "execute_result"
    }
   ],
   "source": []
  },
  {
   "cell_type": "code",
   "execution_count": 31,
   "metadata": {},
   "outputs": [
    {
     "data": {
      "text/plain": [
       "(2, 1, 2)"
      ]
     },
     "execution_count": 31,
     "metadata": {},
     "output_type": "execute_result"
    }
   ],
   "source": []
  },
  {
   "cell_type": "code",
   "execution_count": 22,
   "metadata": {},
   "outputs": [],
   "source": [
    "dist = np.array([]).reshape(500, 0)"
   ]
  },
  {
   "cell_type": "code",
   "execution_count": 39,
   "metadata": {},
   "outputs": [],
   "source": [
    "# update cluster assignment\n",
    "def update_cluster(X, C):\n",
    "    C_extended = C[:, np.newaxis]\n",
    "    \n",
    "    # euclidean distance\n",
    "    distances = np.sqrt(((X - C_extended)**2).sum(axis =2))\n",
    "    \n",
    "    # return new assignment\n",
    "    return np.argmin(distances, axis = 0)"
   ]
  },
  {
   "cell_type": "code",
   "execution_count": 51,
   "metadata": {},
   "outputs": [],
   "source": [
    "# update centroid\n",
    "def update_centroid(X, C):\n",
    "    \n",
    "    new_c = update_cluster(X, C)\n",
    "    \n",
    "    new_centroid = np.array([]).reshape(C.shape[1], 0)\n",
    "    \n",
    "    # for each assignment, calculate the new centroid\n",
    "    for k in range(C.shape[0]):\n",
    "        new_centroid[k] = np.array([X[new_c == k].mean(axis = 0)])\n",
    "    \n",
    "    return new_centroid"
   ]
  },
  {
   "cell_type": "code",
   "execution_count": 52,
   "metadata": {},
   "outputs": [
    {
     "ename": "ValueError",
     "evalue": "could not broadcast input array from shape (2) into shape (0)",
     "output_type": "error",
     "traceback": [
      "\u001b[0;31m---------------------------------------------------------------------------\u001b[0m",
      "\u001b[0;31mValueError\u001b[0m                                Traceback (most recent call last)",
      "\u001b[0;32m<ipython-input-52-faa001251efb>\u001b[0m in \u001b[0;36m<module>\u001b[0;34m\u001b[0m\n\u001b[0;32m----> 1\u001b[0;31m \u001b[0mtest\u001b[0m \u001b[0;34m=\u001b[0m \u001b[0mupdate_centroid\u001b[0m\u001b[0;34m(\u001b[0m\u001b[0mgauss1\u001b[0m\u001b[0;34m,\u001b[0m \u001b[0mcentroids\u001b[0m\u001b[0;34m)\u001b[0m\u001b[0;34m\u001b[0m\u001b[0;34m\u001b[0m\u001b[0m\n\u001b[0m",
      "\u001b[0;32m<ipython-input-51-880a8f10a9f8>\u001b[0m in \u001b[0;36mupdate_centroid\u001b[0;34m(X, C)\u001b[0m\n\u001b[1;32m      8\u001b[0m     \u001b[0;31m# for each assignment, calculate the new centroid\u001b[0m\u001b[0;34m\u001b[0m\u001b[0;34m\u001b[0m\u001b[0;34m\u001b[0m\u001b[0m\n\u001b[1;32m      9\u001b[0m     \u001b[0;32mfor\u001b[0m \u001b[0mk\u001b[0m \u001b[0;32min\u001b[0m \u001b[0mrange\u001b[0m\u001b[0;34m(\u001b[0m\u001b[0mC\u001b[0m\u001b[0;34m.\u001b[0m\u001b[0mshape\u001b[0m\u001b[0;34m[\u001b[0m\u001b[0;36m0\u001b[0m\u001b[0;34m]\u001b[0m\u001b[0;34m)\u001b[0m\u001b[0;34m:\u001b[0m\u001b[0;34m\u001b[0m\u001b[0;34m\u001b[0m\u001b[0m\n\u001b[0;32m---> 10\u001b[0;31m         \u001b[0mnew_centroid\u001b[0m\u001b[0;34m[\u001b[0m\u001b[0mk\u001b[0m\u001b[0;34m]\u001b[0m \u001b[0;34m=\u001b[0m \u001b[0mnp\u001b[0m\u001b[0;34m.\u001b[0m\u001b[0marray\u001b[0m\u001b[0;34m(\u001b[0m\u001b[0;34m[\u001b[0m\u001b[0mX\u001b[0m\u001b[0;34m[\u001b[0m\u001b[0mnew_c\u001b[0m \u001b[0;34m==\u001b[0m \u001b[0mk\u001b[0m\u001b[0;34m]\u001b[0m\u001b[0;34m.\u001b[0m\u001b[0mmean\u001b[0m\u001b[0;34m(\u001b[0m\u001b[0maxis\u001b[0m \u001b[0;34m=\u001b[0m \u001b[0;36m0\u001b[0m\u001b[0;34m)\u001b[0m\u001b[0;34m]\u001b[0m\u001b[0;34m)\u001b[0m\u001b[0;34m\u001b[0m\u001b[0;34m\u001b[0m\u001b[0m\n\u001b[0m\u001b[1;32m     11\u001b[0m \u001b[0;34m\u001b[0m\u001b[0m\n\u001b[1;32m     12\u001b[0m     \u001b[0;32mreturn\u001b[0m \u001b[0mnew_centroid\u001b[0m\u001b[0;34m\u001b[0m\u001b[0;34m\u001b[0m\u001b[0m\n",
      "\u001b[0;31mValueError\u001b[0m: could not broadcast input array from shape (2) into shape (0)"
     ]
    }
   ],
   "source": [
    "test = update_centroid(gauss1, centroids)"
   ]
  },
  {
   "cell_type": "code",
   "execution_count": 44,
   "metadata": {},
   "outputs": [
    {
     "data": {
      "text/plain": [
       "array([[0.44360677, 1.01157848]])"
      ]
     },
     "execution_count": 44,
     "metadata": {},
     "output_type": "execute_result"
    }
   ],
   "source": [
    "test"
   ]
  },
  {
   "cell_type": "markdown",
   "metadata": {},
   "source": [
    "b) For K = 3,5 plot the 500 data points and indicate the cluster of each for the final iteration by marking it with a color or a symbol"
   ]
  },
  {
   "cell_type": "code",
   "execution_count": null,
   "metadata": {},
   "outputs": [],
   "source": []
  },
  {
   "cell_type": "code",
   "execution_count": null,
   "metadata": {},
   "outputs": [],
   "source": []
  }
 ],
 "metadata": {
  "kernelspec": {
   "display_name": "Python 3",
   "language": "python",
   "name": "python3"
  },
  "language_info": {
   "codemirror_mode": {
    "name": "ipython",
    "version": 3
   },
   "file_extension": ".py",
   "mimetype": "text/x-python",
   "name": "python",
   "nbconvert_exporter": "python",
   "pygments_lexer": "ipython3",
   "version": "3.7.3"
  }
 },
 "nbformat": 4,
 "nbformat_minor": 2
}
