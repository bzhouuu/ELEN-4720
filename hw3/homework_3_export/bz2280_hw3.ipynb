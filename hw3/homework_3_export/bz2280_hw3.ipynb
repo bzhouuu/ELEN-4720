{
 "cells": [
  {
   "cell_type": "code",
   "execution_count": 1,
   "metadata": {},
   "outputs": [],
   "source": [
    "import numpy as np\n",
    "import pandas as pd\n",
    "import matplotlib.pyplot as plt\n",
    "import collections\n",
    "\n",
    "from scipy.stats import multivariate_normal, norm"
   ]
  },
  {
   "cell_type": "markdown",
   "metadata": {},
   "source": [
    "# Problem 1: K-means\n",
    "\n",
    "### Generate 500 observations from a mixture of three Guassians with mixing weights $\\pi$ = [0.2, 0.5, 0.3], and means and covariances as:\n",
    "\n",
    "### $\\mu_1 = \\begin{bmatrix}\n",
    "  0\\\\ \n",
    "  0\n",
    "\\end{bmatrix}$, $\\Sigma_1 = \\begin{bmatrix}\n",
    "  1 & 0\\\\ \n",
    "  0 & 1\n",
    "\\end{bmatrix}$ \n",
    "\n",
    "###  $\\mu_2 = \\begin{bmatrix}\n",
    "  3\\\\ \n",
    "  0\n",
    "\\end{bmatrix}$, $\\Sigma_2 = \\begin{bmatrix}\n",
    "  1 & 0\\\\ \n",
    "  0 & 1\n",
    "\\end{bmatrix}$ \n",
    "\n",
    "### $\\mu_3 = \\begin{bmatrix}\n",
    "  0\\\\ \n",
    "  3\n",
    "\\end{bmatrix}$, $\\Sigma_3 = \\begin{bmatrix}\n",
    "  1 & 0\\\\ \n",
    "  0 & 1\n",
    "\\end{bmatrix}$ "
   ]
  },
  {
   "cell_type": "code",
   "execution_count": 61,
   "metadata": {},
   "outputs": [],
   "source": [
    "# data generating process\n",
    "cov = np.matrix([[1,0],[0,1]])\n",
    "mean1 = np.array([0,0])\n",
    "mean2 = np.array([3,0])\n",
    "mean3 = np.array([0,3])\n",
    "\n",
    "gauss1 = np.random.multivariate_normal(mean1, cov, 500)\n",
    "gauss2 = np.random.multivariate_normal(mean2, cov, 500)\n",
    "gauss3 = np.random.multivariate_normal(mean3, cov, 500)"
   ]
  },
  {
   "cell_type": "code",
   "execution_count": 63,
   "metadata": {},
   "outputs": [],
   "source": [
    "choice = np.random.choice(range(3), size = 500, p = [0.2, 0.5, 0.3])"
   ]
  },
  {
   "cell_type": "code",
   "execution_count": 66,
   "metadata": {},
   "outputs": [],
   "source": [
    "data = np.concatenate((gauss1[choice == 0, :],\n",
    "                      gauss2[choice == 1, :],\n",
    "                      gauss3[choice == 2, :]))"
   ]
  },
  {
   "cell_type": "markdown",
   "metadata": {},
   "source": [
    "a) For K = 2,3,4,5, plot the value of the K-means objective function per iteration for 20 iterations"
   ]
  },
  {
   "cell_type": "code",
   "execution_count": 69,
   "metadata": {},
   "outputs": [],
   "source": [
    "# set up\n",
    "n_iter = 20\n",
    "K = [2,3,4,5]"
   ]
  },
  {
   "cell_type": "code",
   "execution_count": 70,
   "metadata": {},
   "outputs": [],
   "source": [
    "# update cluster assignment\n",
    "def update_cluster(X, C):\n",
    "    C_extended = C[:, np.newaxis]\n",
    "    \n",
    "    # euclidean distance\n",
    "    distances = np.sqrt(((X - C_extended)**2).sum(axis =2))\n",
    "    \n",
    "    # return new assignment\n",
    "    return np.argmin(distances, axis = 0)"
   ]
  },
  {
   "cell_type": "code",
   "execution_count": 71,
   "metadata": {},
   "outputs": [],
   "source": [
    "# update centroid\n",
    "def update_centroid(X, c, C):\n",
    "    \n",
    "    new_cluster = c\n",
    "    \n",
    "    # for each assignment, calculate the new centroid\n",
    "    new_centroid = np.array([X[new_cluster == k].mean(axis = 0) for k in range(C.shape[0])])\n",
    "    \n",
    "    return new_centroid"
   ]
  },
  {
   "cell_type": "code",
   "execution_count": 72,
   "metadata": {},
   "outputs": [],
   "source": [
    "# calculate objective fucntion\n",
    "def objective_function(X, c, mu):\n",
    "    \n",
    "#     c = update_cluster(X, C)\n",
    "#     mu = update_centroid(X, C)\n",
    "    \n",
    "    result = 0\n",
    "    \n",
    "    idx = 0\n",
    "    for x in X:\n",
    "#         print(c[idx])\n",
    "#         print(mu[c[idx]])\n",
    "        result += (np.sqrt(((x - mu[c[idx]])**2).sum()))\n",
    "        idx += 1\n",
    "        \n",
    "    \n",
    "    return result"
   ]
  },
  {
   "cell_type": "code",
   "execution_count": 73,
   "metadata": {},
   "outputs": [],
   "source": [
    "def kmeans_pipeline(X, C):\n",
    "    # randomly initialize centroid\n",
    "    c = update_cluster(X, C)\n",
    "    mu = update_centroid(X, c, C)\n",
    "    L = objective_function(X, c, mu)\n",
    "    \n",
    "    return L, mu, c"
   ]
  },
  {
   "cell_type": "code",
   "execution_count": 78,
   "metadata": {},
   "outputs": [],
   "source": [
    "result = []\n",
    "c_result = []\n",
    "i = 0\n",
    "for k in K:\n",
    "    temp = []\n",
    "    # randomly initialize centroid\n",
    "    centroids = np.random.rand(k, np.shape(data)[1])\n",
    "    while(i < n_iter):\n",
    "        L, mu, c = kmeans_pipeline(data, centroids)\n",
    "        centroids = mu\n",
    "        temp.append(L)\n",
    "        i += 1\n",
    "    \n",
    "    result.append(temp)\n",
    "    c_result.append(c)\n",
    "    i = 0\n",
    "    "
   ]
  },
  {
   "cell_type": "code",
   "execution_count": 79,
   "metadata": {},
   "outputs": [
    {
     "data": {
      "image/png": "[encoded data removed]",
      "text/plain": [
       "<Figure size 432x288 with 1 Axes>"
      ]
     },
     "metadata": {
      "needs_background": "light"
     },
     "output_type": "display_data"
    }
   ],
   "source": [
    "fig, ax = plt.subplots();\n",
    "iteration = range(1,21,1)\n",
    "ax.plot(iteration, result[0], label = 'K = 2');\n",
    "ax.plot(iteration, result[1], label = 'K = 3');\n",
    "ax.plot(iteration, result[2], label = 'K = 4');\n",
    "ax.plot(iteration, result[3], label = 'K = 5');\n",
    "ax.set_xticks([0, 2, 4, 6, 8, 10, 12, 14, 16, 18, 20]);\n",
    "ax.set_xlabel('iteration');\n",
    "ax.set_ylabel('L-value');\n",
    "ax.set_title('objective function per iteration');\n",
    "ax.legend();\n",
    "fig.savefig('1a')"
   ]
  },
  {
   "cell_type": "markdown",
   "metadata": {},
   "source": [
    "b) For K = 3,5 plot the 500 data points and indicate the cluster of each for the final iteration by marking it with a color or a symbol"
   ]
  },
  {
   "cell_type": "code",
   "execution_count": 80,
   "metadata": {},
   "outputs": [
    {
     "data": {
      "image/png": "[encoded data removed]",
      "text/plain": [
       "<Figure size 432x288 with 1 Axes>"
      ]
     },
     "metadata": {
      "needs_background": "light"
     },
     "output_type": "display_data"
    }
   ],
   "source": [
    "fig, ax = plt.subplots();\n",
    "\n",
    "idx_list = []\n",
    "for k in range(0, 3, 1):\n",
    "    idx_list.append(np.where(c_result[1] == k))\n",
    "\n",
    "ax.scatter(data[idx_list[0], 0], data[idx_list[0], 1], label = 'cluster1');\n",
    "ax.scatter(data[idx_list[1], 0], data[idx_list[1], 1], label = 'cluster2');\n",
    "ax.scatter(data[idx_list[2], 0], data[idx_list[2], 1], label = 'cluster3');\n",
    "ax.set_title('K = 3 cluster plot');\n",
    "\n",
    "ax.legend();\n",
    "fig.savefig('1b1')"
   ]
  },
  {
   "cell_type": "code",
   "execution_count": 81,
   "metadata": {},
   "outputs": [
    {
     "data": {
      "image/png": "[encoded data removed]",
      "text/plain": [
       "<Figure size 432x288 with 1 Axes>"
      ]
     },
     "metadata": {
      "needs_background": "light"
     },
     "output_type": "display_data"
    }
   ],
   "source": [
    "fig, ax = plt.subplots();\n",
    "\n",
    "idx_list = []\n",
    "for k in range(0, 5, 1):\n",
    "    idx_list.append(np.where(c_result[3] == k))\n",
    "\n",
    "ax.scatter(data[idx_list[0], 0], data[idx_list[0], 1], label = 'cluster1');\n",
    "ax.scatter(data[idx_list[1], 0], data[idx_list[1], 1], label = 'cluster2');\n",
    "ax.scatter(data[idx_list[2], 0], data[idx_list[2], 1], label = 'cluster3');\n",
    "ax.scatter(data[idx_list[3], 0], data[idx_list[3], 1], label = 'cluster4');\n",
    "ax.scatter(data[idx_list[4], 0], data[idx_list[4], 1], label = 'cluster5');\n",
    "ax.set_title('K = 5 cluster plot');\n",
    "\n",
    "ax.legend();\n",
    "fig.savefig('1b2')"
   ]
  },
  {
   "cell_type": "markdown",
   "metadata": {},
   "source": [
    "# Problem 2: Bayes classifier revisited\n",
    "\n",
    "## 1. Initialize all covaraince metrices to the empirical covaraince of the data being modeled.\n",
    "\n",
    "## 2. Randomly initialize the means by sampling from a single multivariate Gaussian where the parameters are the mean and covaraince of the data being modeled.\n",
    "\n",
    "## 3. Initialize the mixing weights to be uniform."
   ]
  },
  {
   "cell_type": "code",
   "execution_count": 2,
   "metadata": {},
   "outputs": [],
   "source": [
    "X_train = pd.read_csv('./hw3-data/Prob2_Xtrain.csv', header = None)\n",
    "X_test = pd.read_csv('./hw3-data/Prob2_Xtest.csv', header = None)\n",
    "y_train = pd.read_csv('./hw3-data/Prob2_ytrain.csv', header = None)\n",
    "y_test = pd.read_csv('./hw3-data/Prob2_ytest.csv', header = None)"
   ]
  },
  {
   "cell_type": "code",
   "execution_count": 16,
   "metadata": {},
   "outputs": [],
   "source": [
    "X1, X2 = X_train[y_train[0] == 0], X_train[y_train[0] == 1]"
   ]
  },
  {
   "cell_type": "code",
   "execution_count": 17,
   "metadata": {},
   "outputs": [],
   "source": [
    "X1_array, X2_array = X1.to_numpy(), X2.to_numpy()"
   ]
  },
  {
   "cell_type": "markdown",
   "metadata": {},
   "source": [
    "a) Implement the EM algorithm for the GMM described in class. For each class separately, plot the log marginal objective function for a 3-Gaussian mixture model over 10 different runs and for iterations 5 to 30. There should be two plots, each with 10 curves."
   ]
  },
  {
   "cell_type": "code",
   "execution_count": 430,
   "metadata": {},
   "outputs": [],
   "source": [
    "def initializing(X, c):\n",
    "    \n",
    "    # initialize covaraince\n",
    "    empirical_cov = np.cov(X.T)\n",
    "    empirical_mean = np.mean(X, axis = 0)\n",
    "    \n",
    "    #print(empirical_cov.shape)\n",
    "    #print(empirical_mean.shape)\n",
    "    \n",
    "    if c != 1:\n",
    "        # initialize the means from a single multivariate Gaussian\n",
    "        # three GMM with 10 classes\n",
    "        #mu = np.random.multivariate_normal(empirical_mean, empirical_cov, X1.shape[0])\n",
    "        mu = multivariate_normal(empirical_mean, empirical_cov).rvs(c)\n",
    "\n",
    "        sigma = np.array([empirical_cov for _ in range(c)])\n",
    "\n",
    "        # initialize the mixing weights\n",
    "        pi = np.array([1/c]*c)\n",
    "    else:\n",
    "        mu = multivariate_normal(empirical_mean, empirical_cov).rvs(c)\n",
    "\n",
    "        sigma = np.array([empirical_cov for _ in range(c)])\n",
    "\n",
    "        # initialize the mixing weights\n",
    "        pi = np.array([1/c]*c)\n",
    "        mu = np.array([mu])\n",
    "    \n",
    "    return pi, mu, sigma\n",
    "    "
   ]
  },
  {
   "cell_type": "code",
   "execution_count": 467,
   "metadata": {},
   "outputs": [],
   "source": [
    "def e_step(X, pi, mu, sigma):\n",
    "    # E-step of the algorithm\n",
    "    \n",
    "    # Parameters:\n",
    "    # X: N x d data points\n",
    "    # pi: C, mixture weights\n",
    "    # mu: C x d, mixture means\n",
    "    # sigma: C x d x d, mixture covariance\n",
    "    \n",
    "    nom = np.zeros((X.shape[0], pi.shape[0]))\n",
    "    # nominator\n",
    "    for c in range(pi.shape[0]):\n",
    "        nom[:, c] = pi[c] * multivariate_normal.pdf(X, mu[c,:], sigma[c], allow_singular = True)\n",
    "            #print(nom[:, c])\n",
    "        #print(nom)\n",
    "        # denominator\n",
    "        denom = np.sum(nom, axis = 1)[:, np.newaxis]\n",
    "        e_result = nom/denom\n",
    "    \n",
    "    return e_result\n"
   ]
  },
  {
   "cell_type": "code",
   "execution_count": 373,
   "metadata": {},
   "outputs": [],
   "source": [
    "def m_step(X, sigma, phi):\n",
    "    # M-step of the algorithm\n",
    "    \n",
    "    # X: N x d, data\n",
    "    # phi: N x C, posterior distribution\n",
    "\n",
    "    pi = np.mean(phi, axis = 0)\n",
    "    mu = np.dot(phi.T, X)/np.sum(phi, axis = 0)[:, np.newaxis]\n",
    "    \n",
    "    for c in range(pi.shape[0]):\n",
    "        x = np.matrix(X - mu[c, :])\n",
    "        phi_diag = np.matrix(np.diag(phi[:, c]))\n",
    "        \n",
    "        sigma_new = x.T * phi_diag * x\n",
    "        denom = np.sum(phi, axis = 0)[:, np.newaxis][c]\n",
    "        sigma[c,:,:] = sigma_new/denom\n",
    "    \n",
    "    return pi, mu, sigma\n",
    "        \n",
    "        "
   ]
  },
  {
   "cell_type": "code",
   "execution_count": 102,
   "metadata": {},
   "outputs": [],
   "source": [
    "def loss_function(X, pi, mu, sigma, phi):\n",
    "    loss = np.zeros((X.shape[0], phi.shape[1]))\n",
    "    \n",
    "    for c in range(pi.shape[0]):\n",
    "        dist = multivariate_normal(mu[c], sigma[c], allow_singular = True)\n",
    "        loss[:, c] = phi[:, c]*(np.log(pi[c]) + dist.logpdf(X))\n",
    "        #print(loss[:, c].shape)\n",
    "    #print(loss.shape)    \n",
    "    loss = np.sum(loss)\n",
    "    \n",
    "    return loss"
   ]
  },
  {
   "cell_type": "code",
   "execution_count": 246,
   "metadata": {
    "scrolled": false
   },
   "outputs": [],
   "source": [
    "def algorithm(X, mixture, run):\n",
    "    run_result = []\n",
    "    param_list = []\n",
    "    score_list = []\n",
    "\n",
    "    c = mixture\n",
    "    num_run = run\n",
    "    num_iter = 30\n",
    "\n",
    "    for i in range(num_run):\n",
    "        #print(i)\n",
    "        pi, mu, sigma = initializing(X, c)\n",
    "        iter_result = []\n",
    "\n",
    "        for j in range(num_iter):\n",
    "            #print(j)\n",
    "            phi = e_step(X, pi, mu, sigma) # e-step\n",
    "            \n",
    "            if np.isnan(phi).sum() != 0:\n",
    "                break\n",
    "            else:\n",
    "                pi, mu, sigma = m_step(X, sigma, phi) # m-step\n",
    "                loss = loss_function(X, pi, mu, sigma, phi) # loss function\n",
    "\n",
    "                if j > 3 and j < 30:\n",
    "                    iter_result.append(loss)\n",
    "                    \n",
    "        param_list.append([pi, mu, sigma, phi])\n",
    "        score_list.append(loss)\n",
    "        run_result.append(iter_result)\n",
    "        \n",
    "    return run_result, param_list, score_list"
   ]
  },
  {
   "cell_type": "code",
   "execution_count": 436,
   "metadata": {},
   "outputs": [
    {
     "name": "stderr",
     "output_type": "stream",
     "text": [
      "/Users/bowenzhou/anaconda3/lib/python3.7/site-packages/ipykernel_launcher.py:18: RuntimeWarning: invalid value encountered in true_divide\n"
     ]
    }
   ],
   "source": [
    "class1_result, param1, score1 = algorithm(X1_array, 3, 10)\n",
    "class2_result, param2, score2 = algorithm(X2_array, 3, 10)"
   ]
  },
  {
   "cell_type": "code",
   "execution_count": 437,
   "metadata": {},
   "outputs": [
    {
     "data": {
      "image/png": "[encoded data removed]",
      "text/plain": [
       "<Figure size 864x288 with 2 Axes>"
      ]
     },
     "metadata": {
      "needs_background": "light"
     },
     "output_type": "display_data"
    }
   ],
   "source": [
    "fig, ax = plt.subplots(1, 2, figsize = (12, 4))\n",
    "ax1, ax2 = ax.ravel()\n",
    "\n",
    "for i in range(len(class1_result)):\n",
    "    ax1.plot(range(len(class1_result[0])), class1_result[i], label = 'run{}'.format(i+1))\n",
    "    ax2.plot(range(len(class2_result[0])), class2_result[i], label = 'run{}'.format(i+1))\n",
    "\n",
    "ax1.set_title('class 0 plot');\n",
    "ax2.set_title('class 1 plot');\n",
    "ax1.set_xlabel('iteration');\n",
    "ax2.set_xlabel('iteration');\n",
    "ax1.set_ylabel('log marginal objective function');\n",
    "\n",
    "ax2.legend(loc = 'lower right', bbox_to_anchor = (1.3, 0));"
   ]
  },
  {
   "cell_type": "markdown",
   "metadata": {},
   "source": [
    "b) Using the best run for each class after 30 iterations, predict the testing data using a Bayes classifier and show the result in a 2 x 2 confusion matrix, along with the accuracy percentage. Repeat this process for a 1-, 2-, 3-, and 4-Gaussian mixture model. Show all results nearby each other, and don't repeat Part (a) for these other cases. Note that a 1-Gaussian GMM doesn't require an algorithm, although your implementation will likely still work."
   ]
  },
  {
   "cell_type": "code",
   "execution_count": 462,
   "metadata": {},
   "outputs": [
    {
     "data": {
      "text/plain": [
       "[48864.1073521673,\n",
       " 49949.26527344855,\n",
       " 50868.653251903,\n",
       " 52390.42494117927,\n",
       " 48907.788710900655,\n",
       " 49948.606780178,\n",
       " 46967.57517463421,\n",
       " 45426.6718642803,\n",
       " 49604.545478575405,\n",
       " 52566.36980461823]"
      ]
     },
     "execution_count": 462,
     "metadata": {},
     "output_type": "execute_result"
    }
   ],
   "source": [
    "score1"
   ]
  },
  {
   "cell_type": "code",
   "execution_count": 438,
   "metadata": {},
   "outputs": [],
   "source": [
    "# for class 0\n",
    "pi1 = param1[9][0]\n",
    "mu1 = param1[9][1]\n",
    "sigma1 = param1[9][2]\n",
    "phi1 = param1[9][3]"
   ]
  },
  {
   "cell_type": "code",
   "execution_count": 439,
   "metadata": {},
   "outputs": [],
   "source": [
    "# for class 1\n",
    "pi2 = param2[3][0]\n",
    "mu2 = param2[3][1]\n",
    "sigma2 = param2[3][2]\n",
    "phi2 = param2[3][3]"
   ]
  },
  {
   "cell_type": "code",
   "execution_count": 440,
   "metadata": {},
   "outputs": [],
   "source": [
    "pi_list = [pi1, pi2]\n",
    "mu_list = [mu1, mu2]\n",
    "sigma_list = [sigma1, sigma2]"
   ]
  },
  {
   "cell_type": "code",
   "execution_count": 136,
   "metadata": {},
   "outputs": [],
   "source": [
    "def get_prior(y):\n",
    "    result = {}\n",
    "    cnt = collections.Counter(np.squeeze(np.asarray(y)))\n",
    "    total = y.shape[0]\n",
    "    \n",
    "    for i in np.unique(y):\n",
    "        result[i] = cnt[i]/total\n",
    "    \n",
    "    return result"
   ]
  },
  {
   "cell_type": "code",
   "execution_count": 402,
   "metadata": {},
   "outputs": [],
   "source": [
    "def predict(X, y, pi_list, mu_list, sigma_list):\n",
    "    \n",
    "    prior = get_prior(y)\n",
    "    post = np.ones(np.unique(y).shape[0])\n",
    "    \n",
    "    for i in np.unique(y):\n",
    "        \n",
    "        pi = pi_list[i]\n",
    "        mu = mu_list[i]\n",
    "        sigma = sigma_list[i]\n",
    "        loss = np.zeros((X.shape[0], pi.shape[0]))\n",
    "        phi = e_step(X, pi, mu, sigma)\n",
    "        \n",
    "        for c in range(pi.shape[0]):\n",
    "            dist = multivariate_normal(mu[c], sigma[c], allow_singular = True)\n",
    "            loss[:, c] = phi[:, c]*((pi[c]) * dist.pdf(X))\n",
    "        \n",
    "        likelihood = np.log(np.sum(loss))\n",
    "        post[i] = np.log(prior[i]) + likelihood\n",
    "    \n",
    "    #print(post)\n",
    "    prediction = post.argmax()\n",
    "    \n",
    "    return prediction"
   ]
  },
  {
   "cell_type": "code",
   "execution_count": 186,
   "metadata": {},
   "outputs": [],
   "source": [
    "X_test_array = X_test.to_numpy()"
   ]
  },
  {
   "cell_type": "code",
   "execution_count": 441,
   "metadata": {},
   "outputs": [
    {
     "name": "stderr",
     "output_type": "stream",
     "text": [
      "/Users/bowenzhou/anaconda3/lib/python3.7/site-packages/ipykernel_launcher.py:18: RuntimeWarning: invalid value encountered in true_divide\n"
     ]
    }
   ],
   "source": [
    "prediction = []\n",
    "\n",
    "TP = 0\n",
    "FN = 0\n",
    "FP = 0\n",
    "TN = 0\n",
    "\n",
    "for i in range(X_test.shape[0]):\n",
    "    label = predict(X_test_array[i], y_train, pi_list, mu_list, sigma_list)\n",
    "    prediction.append(label)\n",
    "    \n",
    "    target = y_test[0][i]\n",
    "    \n",
    "    if target == 1 and label == 1:\n",
    "        TP += 1\n",
    "    if target == 0 and label == 1:\n",
    "        FP += 1\n",
    "    if target == 1 and label == 0:\n",
    "        FN += 1\n",
    "    if target == 0 and label == 0:\n",
    "        TN += 1"
   ]
  },
  {
   "cell_type": "code",
   "execution_count": 442,
   "metadata": {},
   "outputs": [],
   "source": [
    "rst = pd.DataFrame(index = ['pred_1', 'pred_0'], columns = ['y_1', 'y_0'])\n"
   ]
  },
  {
   "cell_type": "code",
   "execution_count": 443,
   "metadata": {},
   "outputs": [],
   "source": [
    "rst.iloc[0,0] = TP\n",
    "rst.iloc[0,1] = FP\n",
    "rst.iloc[1,0] = FN\n",
    "rst.iloc[1,1] = TN"
   ]
  },
  {
   "cell_type": "code",
   "execution_count": 449,
   "metadata": {},
   "outputs": [],
   "source": [
    "def get_param(param1, param2, index1, index2):\n",
    "    pi1 = param1[index1][0]\n",
    "    mu1 = param1[index1][1]\n",
    "    sigma1 = param1[index1][2]\n",
    "    phi1 = param1[index1][3]\n",
    "    \n",
    "    pi2 = param2[index2][0]\n",
    "    mu2 = param2[index2][1]\n",
    "    sigma2 = param2[index2][2]\n",
    "    phi2 = param2[index2][3]\n",
    "    \n",
    "    pi_list = [pi1, pi2]\n",
    "    mu_list = [mu1, mu2]\n",
    "    sigma_list = [sigma1, sigma2]\n",
    "    \n",
    "    return pi_list, mu_list, sigma_list"
   ]
  },
  {
   "cell_type": "code",
   "execution_count": 463,
   "metadata": {},
   "outputs": [],
   "source": [
    "def gmm_pipeline(num_mix, num_run):\n",
    "    class1_result, param1, score1 = algorithm(X1_array, num_mix, num_run)\n",
    "    class2_result, param2, score2 = algorithm(X2_array, num_mix, num_run)\n",
    "    \n",
    "    best1 = np.argmax(score1)\n",
    "    best2 = np.argmax(score2)\n",
    "    pi_list, mu_list, sigma_list = get_param(param1, param2, best1, best2)\n",
    "    \n",
    "    prediction = []\n",
    "\n",
    "    TP = 0\n",
    "    FN = 0\n",
    "    FP = 0\n",
    "    TN = 0\n",
    "\n",
    "    for i in range(X_test.shape[0]):\n",
    "        label = predict(X_test_array[i], y_train, pi_list, mu_list, sigma_list)\n",
    "        prediction.append(label)\n",
    "\n",
    "        target = y_test[0][i]\n",
    "\n",
    "        if target == 1 and label == 1:\n",
    "            TP += 1\n",
    "        if target == 0 and label == 1:\n",
    "            FP += 1\n",
    "        if target == 1 and label == 0:\n",
    "            FN += 1\n",
    "        if target == 0 and label == 0:\n",
    "            TN += 1\n",
    "\n",
    "    rst = pd.DataFrame(index = ['pred_1', 'pred_0'], columns = ['y_1', 'y_0'])\n",
    "    rst.iloc[0,0] = TP\n",
    "    rst.iloc[0,1] = FP\n",
    "    rst.iloc[1,0] = FN\n",
    "    rst.iloc[1,1] = TN\n",
    "    \n",
    "    acc = (TP + TN)/(TP + FP + FN + TN)\n",
    "    \n",
    "    return rst, acc"
   ]
  },
  {
   "cell_type": "markdown",
   "metadata": {},
   "source": [
    "# result of 3-GMM"
   ]
  },
  {
   "cell_type": "code",
   "execution_count": 468,
   "metadata": {},
   "outputs": [
    {
     "name": "stderr",
     "output_type": "stream",
     "text": [
      "/Users/bowenzhou/anaconda3/lib/python3.7/site-packages/ipykernel_launcher.py:18: RuntimeWarning: invalid value encountered in true_divide\n"
     ]
    }
   ],
   "source": [
    "rst3, acc3 = gmm_pipeline(3, 10)"
   ]
  },
  {
   "cell_type": "code",
   "execution_count": 469,
   "metadata": {},
   "outputs": [
    {
     "data": {
      "text/html": [
       "<div>\n",
       "<style scoped>\n",
       "    .dataframe tbody tr th:only-of-type {\n",
       "        vertical-align: middle;\n",
       "    }\n",
       "\n",
       "    .dataframe tbody tr th {\n",
       "        vertical-align: top;\n",
       "    }\n",
       "\n",
       "    .dataframe thead th {\n",
       "        text-align: right;\n",
       "    }\n",
       "</style>\n",
       "<table border=\"1\" class=\"dataframe\">\n",
       "  <thead>\n",
       "    <tr style=\"text-align: right;\">\n",
       "      <th></th>\n",
       "      <th>y_1</th>\n",
       "      <th>y_0</th>\n",
       "    </tr>\n",
       "  </thead>\n",
       "  <tbody>\n",
       "    <tr>\n",
       "      <th>pred_1</th>\n",
       "      <td>170</td>\n",
       "      <td>96</td>\n",
       "    </tr>\n",
       "    <tr>\n",
       "      <th>pred_0</th>\n",
       "      <td>12</td>\n",
       "      <td>182</td>\n",
       "    </tr>\n",
       "  </tbody>\n",
       "</table>\n",
       "</div>"
      ],
      "text/plain": [
       "        y_1  y_0\n",
       "pred_1  170   96\n",
       "pred_0   12  182"
      ]
     },
     "execution_count": 469,
     "metadata": {},
     "output_type": "execute_result"
    }
   ],
   "source": [
    "rst3"
   ]
  },
  {
   "cell_type": "code",
   "execution_count": 470,
   "metadata": {
    "scrolled": true
   },
   "outputs": [
    {
     "data": {
      "text/plain": [
       "0.7652173913043478"
      ]
     },
     "execution_count": 470,
     "metadata": {},
     "output_type": "execute_result"
    }
   ],
   "source": [
    "acc3"
   ]
  },
  {
   "cell_type": "markdown",
   "metadata": {},
   "source": [
    "# result of 2-GMM"
   ]
  },
  {
   "cell_type": "code",
   "execution_count": 477,
   "metadata": {},
   "outputs": [
    {
     "name": "stderr",
     "output_type": "stream",
     "text": [
      "/Users/bowenzhou/anaconda3/lib/python3.7/site-packages/ipykernel_launcher.py:18: RuntimeWarning: invalid value encountered in true_divide\n"
     ]
    }
   ],
   "source": [
    "rst2, acc2 = gmm_pipeline(2, 10)"
   ]
  },
  {
   "cell_type": "code",
   "execution_count": 478,
   "metadata": {},
   "outputs": [
    {
     "data": {
      "text/html": [
       "<div>\n",
       "<style scoped>\n",
       "    .dataframe tbody tr th:only-of-type {\n",
       "        vertical-align: middle;\n",
       "    }\n",
       "\n",
       "    .dataframe tbody tr th {\n",
       "        vertical-align: top;\n",
       "    }\n",
       "\n",
       "    .dataframe thead th {\n",
       "        text-align: right;\n",
       "    }\n",
       "</style>\n",
       "<table border=\"1\" class=\"dataframe\">\n",
       "  <thead>\n",
       "    <tr style=\"text-align: right;\">\n",
       "      <th></th>\n",
       "      <th>y_1</th>\n",
       "      <th>y_0</th>\n",
       "    </tr>\n",
       "  </thead>\n",
       "  <tbody>\n",
       "    <tr>\n",
       "      <th>pred_1</th>\n",
       "      <td>172</td>\n",
       "      <td>114</td>\n",
       "    </tr>\n",
       "    <tr>\n",
       "      <th>pred_0</th>\n",
       "      <td>10</td>\n",
       "      <td>164</td>\n",
       "    </tr>\n",
       "  </tbody>\n",
       "</table>\n",
       "</div>"
      ],
      "text/plain": [
       "        y_1  y_0\n",
       "pred_1  172  114\n",
       "pred_0   10  164"
      ]
     },
     "execution_count": 478,
     "metadata": {},
     "output_type": "execute_result"
    }
   ],
   "source": [
    "rst2"
   ]
  },
  {
   "cell_type": "code",
   "execution_count": 479,
   "metadata": {},
   "outputs": [
    {
     "data": {
      "text/plain": [
       "0.7304347826086957"
      ]
     },
     "execution_count": 479,
     "metadata": {},
     "output_type": "execute_result"
    }
   ],
   "source": [
    "acc2"
   ]
  },
  {
   "cell_type": "markdown",
   "metadata": {},
   "source": [
    "# result of 4-GMM"
   ]
  },
  {
   "cell_type": "code",
   "execution_count": 471,
   "metadata": {},
   "outputs": [
    {
     "name": "stderr",
     "output_type": "stream",
     "text": [
      "/Users/bowenzhou/anaconda3/lib/python3.7/site-packages/ipykernel_launcher.py:18: RuntimeWarning: invalid value encountered in true_divide\n"
     ]
    }
   ],
   "source": [
    "rst4, acc4 = gmm_pipeline(4, 10)"
   ]
  },
  {
   "cell_type": "code",
   "execution_count": 472,
   "metadata": {},
   "outputs": [
    {
     "data": {
      "text/html": [
       "<div>\n",
       "<style scoped>\n",
       "    .dataframe tbody tr th:only-of-type {\n",
       "        vertical-align: middle;\n",
       "    }\n",
       "\n",
       "    .dataframe tbody tr th {\n",
       "        vertical-align: top;\n",
       "    }\n",
       "\n",
       "    .dataframe thead th {\n",
       "        text-align: right;\n",
       "    }\n",
       "</style>\n",
       "<table border=\"1\" class=\"dataframe\">\n",
       "  <thead>\n",
       "    <tr style=\"text-align: right;\">\n",
       "      <th></th>\n",
       "      <th>y_1</th>\n",
       "      <th>y_0</th>\n",
       "    </tr>\n",
       "  </thead>\n",
       "  <tbody>\n",
       "    <tr>\n",
       "      <th>pred_1</th>\n",
       "      <td>161</td>\n",
       "      <td>77</td>\n",
       "    </tr>\n",
       "    <tr>\n",
       "      <th>pred_0</th>\n",
       "      <td>21</td>\n",
       "      <td>201</td>\n",
       "    </tr>\n",
       "  </tbody>\n",
       "</table>\n",
       "</div>"
      ],
      "text/plain": [
       "        y_1  y_0\n",
       "pred_1  161   77\n",
       "pred_0   21  201"
      ]
     },
     "execution_count": 472,
     "metadata": {},
     "output_type": "execute_result"
    }
   ],
   "source": [
    "rst4"
   ]
  },
  {
   "cell_type": "code",
   "execution_count": 473,
   "metadata": {},
   "outputs": [
    {
     "data": {
      "text/plain": [
       "0.7869565217391304"
      ]
     },
     "execution_count": 473,
     "metadata": {},
     "output_type": "execute_result"
    }
   ],
   "source": [
    "acc4"
   ]
  },
  {
   "cell_type": "markdown",
   "metadata": {},
   "source": [
    "# result of 1-GMM"
   ]
  },
  {
   "cell_type": "code",
   "execution_count": 483,
   "metadata": {},
   "outputs": [
    {
     "name": "stderr",
     "output_type": "stream",
     "text": [
      "/Users/bowenzhou/anaconda3/lib/python3.7/site-packages/ipykernel_launcher.py:18: RuntimeWarning: invalid value encountered in true_divide\n"
     ]
    }
   ],
   "source": [
    "rst1, acc1 = gmm_pipeline(1, 10)"
   ]
  },
  {
   "cell_type": "code",
   "execution_count": 484,
   "metadata": {},
   "outputs": [
    {
     "data": {
      "text/html": [
       "<div>\n",
       "<style scoped>\n",
       "    .dataframe tbody tr th:only-of-type {\n",
       "        vertical-align: middle;\n",
       "    }\n",
       "\n",
       "    .dataframe tbody tr th {\n",
       "        vertical-align: top;\n",
       "    }\n",
       "\n",
       "    .dataframe thead th {\n",
       "        text-align: right;\n",
       "    }\n",
       "</style>\n",
       "<table border=\"1\" class=\"dataframe\">\n",
       "  <thead>\n",
       "    <tr style=\"text-align: right;\">\n",
       "      <th></th>\n",
       "      <th>y_1</th>\n",
       "      <th>y_0</th>\n",
       "    </tr>\n",
       "  </thead>\n",
       "  <tbody>\n",
       "    <tr>\n",
       "      <th>pred_1</th>\n",
       "      <td>173</td>\n",
       "      <td>156</td>\n",
       "    </tr>\n",
       "    <tr>\n",
       "      <th>pred_0</th>\n",
       "      <td>9</td>\n",
       "      <td>122</td>\n",
       "    </tr>\n",
       "  </tbody>\n",
       "</table>\n",
       "</div>"
      ],
      "text/plain": [
       "        y_1  y_0\n",
       "pred_1  173  156\n",
       "pred_0    9  122"
      ]
     },
     "execution_count": 484,
     "metadata": {},
     "output_type": "execute_result"
    }
   ],
   "source": [
    "rst1"
   ]
  },
  {
   "cell_type": "code",
   "execution_count": 485,
   "metadata": {},
   "outputs": [
    {
     "data": {
      "text/plain": [
       "0.6413043478260869"
      ]
     },
     "execution_count": 485,
     "metadata": {},
     "output_type": "execute_result"
    }
   ],
   "source": [
    "acc1"
   ]
  },
  {
   "cell_type": "markdown",
   "metadata": {},
   "source": [
    "# Problem 3: Matrix factorization"
   ]
  },
  {
   "cell_type": "markdown",
   "metadata": {},
   "source": [
    "Implement the MAP inference algorithm for the matrix completion problem. For users $u \\in R^d$ and movies $v \\in R^d$, $u_i \\sim N(0, \\lambda^{-1} I)$, i = 1, ..., $N_1$, and $v_j \\sim N(0, \\lambda^{-1}I)$, j = 1,..., $N_2$.\n",
    "\n",
    "We are given an $N_1 x N_2$ matrix M with missing values. Given the set $\\Omega = \\{(i,j): M_{ij}$ is measured$\\}$, for each (i,j) $\\in \\Omega$ we model $M_{ij} \\sim N(u^T_i v_j, \\sigma^2$).\n",
    "\n",
    "Set $\\sigma^2 = 0.25, d = 10, \\lambda = 1$. Train the model on train set for 100 iterations."
   ]
  },
  {
   "cell_type": "code",
   "execution_count": 2,
   "metadata": {
    "scrolled": true
   },
   "outputs": [],
   "source": [
    "ratings_train = pd.read_csv('./hw3-data/Prob3_ratings.csv', header = None)\n",
    "ratings_test = pd.read_csv('./hw3-data/Prob3_ratings_test.csv', header = None)"
   ]
  },
  {
   "cell_type": "markdown",
   "metadata": {},
   "source": [
    "a) Run code 10 times. For each run, initialize $u_i$ and $v_j$ vectors as N(0, I) random vectors. On a single plot, show the log joint likelihood for iterations 2 to 100 for each run. In a table, show in each row the final value of the training objective function next to the RMSE on the testing set. Sort these rows according to decreasing value of the objective function."
   ]
  },
  {
   "cell_type": "code",
   "execution_count": 3,
   "metadata": {},
   "outputs": [],
   "source": [
    "ratings_train.columns = ['user_id', 'movie_id', 'rating']\n",
    "ratings_test.columns = ['user_id', 'movie_id', 'rating']"
   ]
  },
  {
   "cell_type": "code",
   "execution_count": 4,
   "metadata": {},
   "outputs": [
    {
     "data": {
      "text/plain": [
       "(95000, 3)"
      ]
     },
     "execution_count": 4,
     "metadata": {},
     "output_type": "execute_result"
    }
   ],
   "source": [
    "ratings_train.shape"
   ]
  },
  {
   "cell_type": "code",
   "execution_count": 5,
   "metadata": {},
   "outputs": [],
   "source": [
    "def construct_train(df):\n",
    "    n1 = df.user_id.max()\n",
    "    n2 = df.movie_id.max()\n",
    "    \n",
    "    train = np.repeat(np.nan, n1*n2).reshape(n1, n2)\n",
    "    \n",
    "    for i in range(df.shape[0]):\n",
    "        train[int(df.iloc[i][0] - 1), int(df.iloc[i][1] - 1)] = float(df.iloc[i][2])\n",
    "    \n",
    "    return train"
   ]
  },
  {
   "cell_type": "code",
   "execution_count": 6,
   "metadata": {},
   "outputs": [],
   "source": [
    "def construct_test(df):\n",
    "    n1 = train.shape[0]\n",
    "    n2 = train.shape[1]\n",
    "    \n",
    "    test = np.repeat(np.nan, n1*n2).reshape(n1, n2)\n",
    "    \n",
    "    for i in range(df.shape[0]):\n",
    "        test[int(df.iloc[i][0] - 1), int(df.iloc[i][1] - 1)] = float(df.iloc[i][2])\n",
    "    \n",
    "    return test"
   ]
  },
  {
   "cell_type": "code",
   "execution_count": 7,
   "metadata": {},
   "outputs": [],
   "source": [
    "train = construct_train(ratings_train)"
   ]
  },
  {
   "cell_type": "code",
   "execution_count": 8,
   "metadata": {},
   "outputs": [],
   "source": [
    "test = construct_test(ratings_test)"
   ]
  },
  {
   "cell_type": "code",
   "execution_count": 9,
   "metadata": {},
   "outputs": [],
   "source": [
    "def update_user(matrix, U, V):\n",
    "    num_users = matrix.shape[0]\n",
    "    \n",
    "    lamda = 1\n",
    "    variance = 0.25\n",
    "    d = 10\n",
    "    \n",
    "    first_term = lamda*variance*np.identity(d)\n",
    "    \n",
    "    # for each user location\n",
    "    for i in range(num_users):\n",
    "        #print(matrix[i, :])\n",
    "        observed = ~np.isnan(matrix[i, :])\n",
    "        #print(observed)\n",
    "        Vi = V[:, observed]\n",
    "        Mi = matrix[i, observed]\n",
    "        \n",
    "        U[i,:] = np.linalg.inv(first_term + np.dot(Vi, Vi.T)).dot(Vi.dot(Mi.T))\n",
    "        \n",
    "    \n",
    "    return U\n",
    "    "
   ]
  },
  {
   "cell_type": "code",
   "execution_count": 10,
   "metadata": {},
   "outputs": [],
   "source": [
    "def update_object(matrix, U, V):\n",
    "    num_object = matrix.shape[1]\n",
    "    \n",
    "    lamda = 1\n",
    "    variance = 0.25\n",
    "    d = 10\n",
    "    \n",
    "    first_term = lamda*variance*np.identity(d)\n",
    "    \n",
    "    # for each object location\n",
    "    for j in range(num_object):\n",
    "        observed = ~np.isnan(matrix[:, j])\n",
    "        #print(observed)\n",
    "        Uj = U[observed, :]\n",
    "        Mj = matrix[observed, j]\n",
    "        \n",
    "        V[:,j] = np.linalg.inv(first_term + np.dot(Uj.T, Uj)).dot(Uj.T.dot(Mj.T))\n",
    "        \n",
    "    \n",
    "    return V\n",
    "    "
   ]
  },
  {
   "cell_type": "code",
   "execution_count": 11,
   "metadata": {},
   "outputs": [],
   "source": [
    "def error(matrix, U, V):\n",
    "    lamda = 1\n",
    "    variance = 0.25\n",
    "    d = 10\n",
    "    \n",
    "    observed = ~np.isnan(matrix)\n",
    "    predicted = np.dot(U, V)\n",
    "    \n",
    "    actual = matrix[observed]\n",
    "    score = ((actual - predicted[observed])**2).sum()\n",
    "    \n",
    "    #if matrix is test:\n",
    "       # print(predicted[observed])\n",
    "    \n",
    "    return score"
   ]
  },
  {
   "cell_type": "code",
   "execution_count": 22,
   "metadata": {},
   "outputs": [],
   "source": [
    "def objective(matrix, U, V):\n",
    "    lamda = 1\n",
    "    variance = 0.25\n",
    "    d = 10\n",
    "    \n",
    "    # calculate first term\n",
    "    sqr_error = error(matrix, U, V)\n",
    "    #print(sqr_error)\n",
    "    first_term = sqr_error/(2*variance)\n",
    "    \n",
    "    # calculate second term\n",
    "    second_term = (U**2).sum()*(lamda/2)\n",
    "    #second_term = np.sum(np.linalg.norm(U[i,:]) for i in range(U.shape[0]))*(lamda/2)\n",
    "    \n",
    "    # calculate third term\n",
    "    third_term = (V**2).sum()*(lamda/2)\n",
    "    #third_term = np.sum(np.linalg.norm(V[:, j]) for j in range(V.shape[0])).sum()*(lamda/2)\n",
    "    \n",
    "    L = first_term + second_term + third_term\n",
    "    #print(L)\n",
    "    \n",
    "    return (-L)"
   ]
  },
  {
   "cell_type": "code",
   "execution_count": 23,
   "metadata": {},
   "outputs": [],
   "source": [
    "def PMF(matrix):\n",
    "    lamda = 1\n",
    "    variance = 0.25\n",
    "    d = 10 # rank\n",
    "    \n",
    "    n1 = matrix.shape[0] # number of users\n",
    "    n2 = matrix.shape[1] # number of items\n",
    "    \n",
    "    # initialize random U, V\n",
    "    U = np.random.multivariate_normal(np.repeat(0, d), np.identity(d)/lamda, n1)\n",
    "    V = np.random.multivariate_normal(np.repeat(0,d), np.identity(d)/lamda, n2).T\n",
    "    \n",
    "    objective_ls = []\n",
    "    \n",
    "    max_iter = 100 # number of iterations\n",
    "    \n",
    "    for r in range(max_iter):\n",
    "        \n",
    "        new_U = update_user(matrix, U, V)\n",
    "        \n",
    "        new_V = update_object(matrix, U, V)\n",
    "    \n",
    "        if r > 1:\n",
    "            objective_ls.append(objective(matrix, new_U, new_V))\n",
    "    \n",
    "    return objective_ls, new_U, new_V"
   ]
  },
  {
   "cell_type": "code",
   "execution_count": 24,
   "metadata": {},
   "outputs": [],
   "source": [
    "result = []\n",
    "U_ls = []\n",
    "V_ls = []\n",
    "table = pd.DataFrame(index = range(10),\n",
    "                    columns = ['rmse','objective'])\n",
    "\n",
    "for i in range(10):\n",
    "    L, U, V = PMF(train)\n",
    "    result.append(L)\n",
    "    U_ls.append(U)\n",
    "    V_ls.append(V)\n",
    "    table.iloc[i,0] = np.sqrt(error(test, U, V)/ratings_test.shape[0])\n",
    "    table.iloc[i,1] = L[-1]"
   ]
  },
  {
   "cell_type": "code",
   "execution_count": 25,
   "metadata": {},
   "outputs": [
    {
     "data": {
      "image/png": "[encoded data removed]",
      "text/plain": [
       "<Figure size 432x288 with 1 Axes>"
      ]
     },
     "metadata": {
      "needs_background": "light"
     },
     "output_type": "display_data"
    }
   ],
   "source": [
    "fig, ax = plt.subplots()\n",
    "iteration = range(1, 99, 1)\n",
    "for i in range(len(result)):\n",
    "    ax.plot(iteration, result[i], label = 'run {}'.format(i+1))\n",
    "\n",
    "ax.set_xlabel('iteration');\n",
    "ax.set_ylabel('objective function');\n",
    "ax.set_title('objective function plot over 10 runs');\n",
    "ax.legend();\n"
   ]
  },
  {
   "cell_type": "code",
   "execution_count": 26,
   "metadata": {},
   "outputs": [
    {
     "data": {
      "text/html": [
       "<div>\n",
       "<style scoped>\n",
       "    .dataframe tbody tr th:only-of-type {\n",
       "        vertical-align: middle;\n",
       "    }\n",
       "\n",
       "    .dataframe tbody tr th {\n",
       "        vertical-align: top;\n",
       "    }\n",
       "\n",
       "    .dataframe thead th {\n",
       "        text-align: right;\n",
       "    }\n",
       "</style>\n",
       "<table border=\"1\" class=\"dataframe\">\n",
       "  <thead>\n",
       "    <tr style=\"text-align: right;\">\n",
       "      <th></th>\n",
       "      <th>rmse</th>\n",
       "      <th>objective</th>\n",
       "    </tr>\n",
       "  </thead>\n",
       "  <tbody>\n",
       "    <tr>\n",
       "      <th>6</th>\n",
       "      <td>1.11617</td>\n",
       "      <td>-90817.5</td>\n",
       "    </tr>\n",
       "    <tr>\n",
       "      <th>7</th>\n",
       "      <td>1.12033</td>\n",
       "      <td>-90867.1</td>\n",
       "    </tr>\n",
       "    <tr>\n",
       "      <th>5</th>\n",
       "      <td>1.0863</td>\n",
       "      <td>-91062.4</td>\n",
       "    </tr>\n",
       "    <tr>\n",
       "      <th>3</th>\n",
       "      <td>1.09545</td>\n",
       "      <td>-91070.6</td>\n",
       "    </tr>\n",
       "    <tr>\n",
       "      <th>4</th>\n",
       "      <td>1.10945</td>\n",
       "      <td>-91086.9</td>\n",
       "    </tr>\n",
       "    <tr>\n",
       "      <th>0</th>\n",
       "      <td>1.14041</td>\n",
       "      <td>-91112.7</td>\n",
       "    </tr>\n",
       "    <tr>\n",
       "      <th>8</th>\n",
       "      <td>1.11961</td>\n",
       "      <td>-91196.3</td>\n",
       "    </tr>\n",
       "    <tr>\n",
       "      <th>9</th>\n",
       "      <td>1.09307</td>\n",
       "      <td>-91197.7</td>\n",
       "    </tr>\n",
       "    <tr>\n",
       "      <th>2</th>\n",
       "      <td>1.1015</td>\n",
       "      <td>-91298.5</td>\n",
       "    </tr>\n",
       "    <tr>\n",
       "      <th>1</th>\n",
       "      <td>1.13821</td>\n",
       "      <td>-91376.9</td>\n",
       "    </tr>\n",
       "  </tbody>\n",
       "</table>\n",
       "</div>"
      ],
      "text/plain": [
       "      rmse objective\n",
       "6  1.11617  -90817.5\n",
       "7  1.12033  -90867.1\n",
       "5   1.0863  -91062.4\n",
       "3  1.09545  -91070.6\n",
       "4  1.10945  -91086.9\n",
       "0  1.14041  -91112.7\n",
       "8  1.11961  -91196.3\n",
       "9  1.09307  -91197.7\n",
       "2   1.1015  -91298.5\n",
       "1  1.13821  -91376.9"
      ]
     },
     "execution_count": 26,
     "metadata": {},
     "output_type": "execute_result"
    }
   ],
   "source": [
    "table.sort_values('objective', ascending = False)"
   ]
  },
  {
   "cell_type": "markdown",
   "metadata": {},
   "source": [
    "b) For the run with the highest objective value, pick the movies \"Star Wars\" \"My Fair Lady\" and \"Goodfellas\" and for each movie find the 10 closest movies according to Euclidean distance  using respective location $v_j$. List the query movie, the ten nearest movies and their distances. A mapping from index to movie is provided with the data."
   ]
  },
  {
   "cell_type": "code",
   "execution_count": 471,
   "metadata": {},
   "outputs": [],
   "source": [
    "f = open('./hw3-data/Prob3_movies.txt', 'r')"
   ]
  },
  {
   "cell_type": "code",
   "execution_count": 472,
   "metadata": {},
   "outputs": [],
   "source": [
    "movie_names = []\n",
    "for line in f:\n",
    "    line = line.strip()\n",
    "    line = line.split('(')\n",
    "    movie_names.append(line[0])"
   ]
  },
  {
   "cell_type": "code",
   "execution_count": 449,
   "metadata": {},
   "outputs": [],
   "source": [
    "movies = pd.DataFrame(index = range(1682),\n",
    "                     columns = ['movie_id', 'movie_name'])"
   ]
  },
  {
   "cell_type": "code",
   "execution_count": 451,
   "metadata": {},
   "outputs": [],
   "source": [
    "movies.movie_id = range(1, 1683, 1)"
   ]
  },
  {
   "cell_type": "code",
   "execution_count": 474,
   "metadata": {},
   "outputs": [],
   "source": [
    "movies.movie_name = movie_names"
   ]
  },
  {
   "cell_type": "code",
   "execution_count": 577,
   "metadata": {},
   "outputs": [
    {
     "data": {
      "text/html": [
       "<div>\n",
       "<style scoped>\n",
       "    .dataframe tbody tr th:only-of-type {\n",
       "        vertical-align: middle;\n",
       "    }\n",
       "\n",
       "    .dataframe tbody tr th {\n",
       "        vertical-align: top;\n",
       "    }\n",
       "\n",
       "    .dataframe thead th {\n",
       "        text-align: right;\n",
       "    }\n",
       "</style>\n",
       "<table border=\"1\" class=\"dataframe\">\n",
       "  <thead>\n",
       "    <tr style=\"text-align: right;\">\n",
       "      <th></th>\n",
       "      <th>movie_id</th>\n",
       "      <th>movie_name</th>\n",
       "    </tr>\n",
       "  </thead>\n",
       "  <tbody>\n",
       "    <tr>\n",
       "      <th>181</th>\n",
       "      <td>182</td>\n",
       "      <td>GoodFellas</td>\n",
       "    </tr>\n",
       "  </tbody>\n",
       "</table>\n",
       "</div>"
      ],
      "text/plain": [
       "     movie_id   movie_name\n",
       "181       182  GoodFellas "
      ]
     },
     "execution_count": 577,
     "metadata": {},
     "output_type": "execute_result"
    }
   ],
   "source": [
    "movies[movies.movie_name == 'GoodFellas ']"
   ]
  },
  {
   "cell_type": "code",
   "execution_count": 578,
   "metadata": {},
   "outputs": [
    {
     "data": {
      "text/html": [
       "<div>\n",
       "<style scoped>\n",
       "    .dataframe tbody tr th:only-of-type {\n",
       "        vertical-align: middle;\n",
       "    }\n",
       "\n",
       "    .dataframe tbody tr th {\n",
       "        vertical-align: top;\n",
       "    }\n",
       "\n",
       "    .dataframe thead th {\n",
       "        text-align: right;\n",
       "    }\n",
       "</style>\n",
       "<table border=\"1\" class=\"dataframe\">\n",
       "  <thead>\n",
       "    <tr style=\"text-align: right;\">\n",
       "      <th></th>\n",
       "      <th>movie_id</th>\n",
       "      <th>movie_name</th>\n",
       "    </tr>\n",
       "  </thead>\n",
       "  <tbody>\n",
       "    <tr>\n",
       "      <th>484</th>\n",
       "      <td>485</td>\n",
       "      <td>My Fair Lady</td>\n",
       "    </tr>\n",
       "  </tbody>\n",
       "</table>\n",
       "</div>"
      ],
      "text/plain": [
       "     movie_id     movie_name\n",
       "484       485  My Fair Lady "
      ]
     },
     "execution_count": 578,
     "metadata": {},
     "output_type": "execute_result"
    }
   ],
   "source": [
    "movies[movies.movie_name == 'My Fair Lady ']"
   ]
  },
  {
   "cell_type": "code",
   "execution_count": 579,
   "metadata": {},
   "outputs": [
    {
     "data": {
      "text/html": [
       "<div>\n",
       "<style scoped>\n",
       "    .dataframe tbody tr th:only-of-type {\n",
       "        vertical-align: middle;\n",
       "    }\n",
       "\n",
       "    .dataframe tbody tr th {\n",
       "        vertical-align: top;\n",
       "    }\n",
       "\n",
       "    .dataframe thead th {\n",
       "        text-align: right;\n",
       "    }\n",
       "</style>\n",
       "<table border=\"1\" class=\"dataframe\">\n",
       "  <thead>\n",
       "    <tr style=\"text-align: right;\">\n",
       "      <th></th>\n",
       "      <th>movie_id</th>\n",
       "      <th>movie_name</th>\n",
       "    </tr>\n",
       "  </thead>\n",
       "  <tbody>\n",
       "    <tr>\n",
       "      <th>49</th>\n",
       "      <td>50</td>\n",
       "      <td>Star Wars</td>\n",
       "    </tr>\n",
       "  </tbody>\n",
       "</table>\n",
       "</div>"
      ],
      "text/plain": [
       "    movie_id  movie_name\n",
       "49        50  Star Wars "
      ]
     },
     "execution_count": 579,
     "metadata": {},
     "output_type": "execute_result"
    }
   ],
   "source": [
    "movies[movies.movie_name == 'Star Wars ']"
   ]
  },
  {
   "cell_type": "code",
   "execution_count": 570,
   "metadata": {},
   "outputs": [],
   "source": [
    "def get_movies(V, target):\n",
    "    \n",
    "    target_vector = V[:, target]\n",
    "    \n",
    "    distance = np.sqrt(((V.T - target_vector)**2).sum(axis = 1))\n",
    "    \n",
    "    df = pd.DataFrame({'movie_id': range(1, 1683, 1),\n",
    "                      'distance': distance})\n",
    "    \n",
    "    df10 = df.sort_values('distance').iloc[0:11,:]\n",
    "    \n",
    "    df10 = df10.merge(movies, on = 'movie_id', how = 'left')\n",
    "    df10 = df10[['movie_id', 'movie_name', 'distance']]\n",
    "    \n",
    "    return df10"
   ]
  },
  {
   "cell_type": "code",
   "execution_count": 565,
   "metadata": {},
   "outputs": [],
   "source": [
    "best_V = V_ls[1]"
   ]
  },
  {
   "cell_type": "code",
   "execution_count": 580,
   "metadata": {},
   "outputs": [],
   "source": [
    "# top10 for GoodFellas\n",
    "\n",
    "movie1 = get_movies(best_V, 181)\n",
    "movie2 = get_movies(best_V, 484)\n",
    "movie3 = get_movies(best_V, 49)"
   ]
  },
  {
   "cell_type": "code",
   "execution_count": 581,
   "metadata": {},
   "outputs": [
    {
     "data": {
      "text/html": [
       "<div>\n",
       "<style scoped>\n",
       "    .dataframe tbody tr th:only-of-type {\n",
       "        vertical-align: middle;\n",
       "    }\n",
       "\n",
       "    .dataframe tbody tr th {\n",
       "        vertical-align: top;\n",
       "    }\n",
       "\n",
       "    .dataframe thead th {\n",
       "        text-align: right;\n",
       "    }\n",
       "</style>\n",
       "<table border=\"1\" class=\"dataframe\">\n",
       "  <thead>\n",
       "    <tr style=\"text-align: right;\">\n",
       "      <th></th>\n",
       "      <th>movie_id</th>\n",
       "      <th>movie_name</th>\n",
       "      <th>distance</th>\n",
       "    </tr>\n",
       "  </thead>\n",
       "  <tbody>\n",
       "    <tr>\n",
       "      <th>0</th>\n",
       "      <td>182</td>\n",
       "      <td>GoodFellas</td>\n",
       "      <td>0.000000</td>\n",
       "    </tr>\n",
       "    <tr>\n",
       "      <th>1</th>\n",
       "      <td>180</td>\n",
       "      <td>Apocalypse Now</td>\n",
       "      <td>0.718481</td>\n",
       "    </tr>\n",
       "    <tr>\n",
       "      <th>2</th>\n",
       "      <td>187</td>\n",
       "      <td>Godfather: Part II, The</td>\n",
       "      <td>0.787832</td>\n",
       "    </tr>\n",
       "    <tr>\n",
       "      <th>3</th>\n",
       "      <td>177</td>\n",
       "      <td>Good, The Bad and The Ugly, The</td>\n",
       "      <td>0.810482</td>\n",
       "    </tr>\n",
       "    <tr>\n",
       "      <th>4</th>\n",
       "      <td>523</td>\n",
       "      <td>Cool Hand Luke</td>\n",
       "      <td>0.836712</td>\n",
       "    </tr>\n",
       "    <tr>\n",
       "      <th>5</th>\n",
       "      <td>518</td>\n",
       "      <td>Miller's Crossing</td>\n",
       "      <td>0.837655</td>\n",
       "    </tr>\n",
       "    <tr>\n",
       "      <th>6</th>\n",
       "      <td>469</td>\n",
       "      <td>Short Cuts</td>\n",
       "      <td>0.840653</td>\n",
       "    </tr>\n",
       "    <tr>\n",
       "      <th>7</th>\n",
       "      <td>188</td>\n",
       "      <td>Full Metal Jacket</td>\n",
       "      <td>0.853117</td>\n",
       "    </tr>\n",
       "    <tr>\n",
       "      <th>8</th>\n",
       "      <td>504</td>\n",
       "      <td>Bonnie and Clyde</td>\n",
       "      <td>0.909487</td>\n",
       "    </tr>\n",
       "    <tr>\n",
       "      <th>9</th>\n",
       "      <td>494</td>\n",
       "      <td>His Girl Friday</td>\n",
       "      <td>0.927509</td>\n",
       "    </tr>\n",
       "    <tr>\n",
       "      <th>10</th>\n",
       "      <td>135</td>\n",
       "      <td>2001: A Space Odyssey</td>\n",
       "      <td>0.972085</td>\n",
       "    </tr>\n",
       "  </tbody>\n",
       "</table>\n",
       "</div>"
      ],
      "text/plain": [
       "    movie_id                        movie_name  distance\n",
       "0        182                       GoodFellas   0.000000\n",
       "1        180                   Apocalypse Now   0.718481\n",
       "2        187          Godfather: Part II, The   0.787832\n",
       "3        177  Good, The Bad and The Ugly, The   0.810482\n",
       "4        523                   Cool Hand Luke   0.836712\n",
       "5        518                Miller's Crossing   0.837655\n",
       "6        469                       Short Cuts   0.840653\n",
       "7        188                Full Metal Jacket   0.853117\n",
       "8        504                 Bonnie and Clyde   0.909487\n",
       "9        494                  His Girl Friday   0.927509\n",
       "10       135            2001: A Space Odyssey   0.972085"
      ]
     },
     "execution_count": 581,
     "metadata": {},
     "output_type": "execute_result"
    }
   ],
   "source": [
    "movie1"
   ]
  },
  {
   "cell_type": "code",
   "execution_count": 582,
   "metadata": {},
   "outputs": [
    {
     "data": {
      "text/html": [
       "<div>\n",
       "<style scoped>\n",
       "    .dataframe tbody tr th:only-of-type {\n",
       "        vertical-align: middle;\n",
       "    }\n",
       "\n",
       "    .dataframe tbody tr th {\n",
       "        vertical-align: top;\n",
       "    }\n",
       "\n",
       "    .dataframe thead th {\n",
       "        text-align: right;\n",
       "    }\n",
       "</style>\n",
       "<table border=\"1\" class=\"dataframe\">\n",
       "  <thead>\n",
       "    <tr style=\"text-align: right;\">\n",
       "      <th></th>\n",
       "      <th>movie_id</th>\n",
       "      <th>movie_name</th>\n",
       "      <th>distance</th>\n",
       "    </tr>\n",
       "  </thead>\n",
       "  <tbody>\n",
       "    <tr>\n",
       "      <th>0</th>\n",
       "      <td>485</td>\n",
       "      <td>My Fair Lady</td>\n",
       "      <td>0.000000</td>\n",
       "    </tr>\n",
       "    <tr>\n",
       "      <th>1</th>\n",
       "      <td>419</td>\n",
       "      <td>Mary Poppins</td>\n",
       "      <td>0.432294</td>\n",
       "    </tr>\n",
       "    <tr>\n",
       "      <th>2</th>\n",
       "      <td>486</td>\n",
       "      <td>Sabrina</td>\n",
       "      <td>0.587397</td>\n",
       "    </tr>\n",
       "    <tr>\n",
       "      <th>3</th>\n",
       "      <td>699</td>\n",
       "      <td>Little Women</td>\n",
       "      <td>0.686037</td>\n",
       "    </tr>\n",
       "    <tr>\n",
       "      <th>4</th>\n",
       "      <td>8</td>\n",
       "      <td>Babe</td>\n",
       "      <td>0.743942</td>\n",
       "    </tr>\n",
       "    <tr>\n",
       "      <th>5</th>\n",
       "      <td>418</td>\n",
       "      <td>Cinderella</td>\n",
       "      <td>0.761354</td>\n",
       "    </tr>\n",
       "    <tr>\n",
       "      <th>6</th>\n",
       "      <td>465</td>\n",
       "      <td>Jungle Book, The</td>\n",
       "      <td>0.766173</td>\n",
       "    </tr>\n",
       "    <tr>\n",
       "      <th>7</th>\n",
       "      <td>602</td>\n",
       "      <td>American in Paris, An</td>\n",
       "      <td>0.771249</td>\n",
       "    </tr>\n",
       "    <tr>\n",
       "      <th>8</th>\n",
       "      <td>705</td>\n",
       "      <td>Singin' in the Rain</td>\n",
       "      <td>0.781714</td>\n",
       "    </tr>\n",
       "    <tr>\n",
       "      <th>9</th>\n",
       "      <td>99</td>\n",
       "      <td>Snow White and the Seven Dwarfs</td>\n",
       "      <td>0.795669</td>\n",
       "    </tr>\n",
       "    <tr>\n",
       "      <th>10</th>\n",
       "      <td>1197</td>\n",
       "      <td>Family Thing, A</td>\n",
       "      <td>0.814295</td>\n",
       "    </tr>\n",
       "  </tbody>\n",
       "</table>\n",
       "</div>"
      ],
      "text/plain": [
       "    movie_id                        movie_name  distance\n",
       "0        485                     My Fair Lady   0.000000\n",
       "1        419                     Mary Poppins   0.432294\n",
       "2        486                          Sabrina   0.587397\n",
       "3        699                     Little Women   0.686037\n",
       "4          8                             Babe   0.743942\n",
       "5        418                       Cinderella   0.761354\n",
       "6        465                 Jungle Book, The   0.766173\n",
       "7        602            American in Paris, An   0.771249\n",
       "8        705              Singin' in the Rain   0.781714\n",
       "9         99  Snow White and the Seven Dwarfs   0.795669\n",
       "10      1197                  Family Thing, A   0.814295"
      ]
     },
     "execution_count": 582,
     "metadata": {},
     "output_type": "execute_result"
    }
   ],
   "source": [
    "movie2"
   ]
  },
  {
   "cell_type": "code",
   "execution_count": 583,
   "metadata": {},
   "outputs": [
    {
     "data": {
      "text/html": [
       "<div>\n",
       "<style scoped>\n",
       "    .dataframe tbody tr th:only-of-type {\n",
       "        vertical-align: middle;\n",
       "    }\n",
       "\n",
       "    .dataframe tbody tr th {\n",
       "        vertical-align: top;\n",
       "    }\n",
       "\n",
       "    .dataframe thead th {\n",
       "        text-align: right;\n",
       "    }\n",
       "</style>\n",
       "<table border=\"1\" class=\"dataframe\">\n",
       "  <thead>\n",
       "    <tr style=\"text-align: right;\">\n",
       "      <th></th>\n",
       "      <th>movie_id</th>\n",
       "      <th>movie_name</th>\n",
       "      <th>distance</th>\n",
       "    </tr>\n",
       "  </thead>\n",
       "  <tbody>\n",
       "    <tr>\n",
       "      <th>0</th>\n",
       "      <td>50</td>\n",
       "      <td>Star Wars</td>\n",
       "      <td>0.000000</td>\n",
       "    </tr>\n",
       "    <tr>\n",
       "      <th>1</th>\n",
       "      <td>172</td>\n",
       "      <td>Empire Strikes Back, The</td>\n",
       "      <td>0.322864</td>\n",
       "    </tr>\n",
       "    <tr>\n",
       "      <th>2</th>\n",
       "      <td>174</td>\n",
       "      <td>Raiders of the Lost Ark</td>\n",
       "      <td>0.501493</td>\n",
       "    </tr>\n",
       "    <tr>\n",
       "      <th>3</th>\n",
       "      <td>181</td>\n",
       "      <td>Return of the Jedi</td>\n",
       "      <td>0.660750</td>\n",
       "    </tr>\n",
       "    <tr>\n",
       "      <th>4</th>\n",
       "      <td>210</td>\n",
       "      <td>Indiana Jones and the Last Crusade</td>\n",
       "      <td>0.862648</td>\n",
       "    </tr>\n",
       "    <tr>\n",
       "      <th>5</th>\n",
       "      <td>12</td>\n",
       "      <td>Usual Suspects, The</td>\n",
       "      <td>0.953355</td>\n",
       "    </tr>\n",
       "    <tr>\n",
       "      <th>6</th>\n",
       "      <td>204</td>\n",
       "      <td>Back to the Future</td>\n",
       "      <td>1.005424</td>\n",
       "    </tr>\n",
       "    <tr>\n",
       "      <th>7</th>\n",
       "      <td>613</td>\n",
       "      <td>My Man Godfrey</td>\n",
       "      <td>1.028646</td>\n",
       "    </tr>\n",
       "    <tr>\n",
       "      <th>8</th>\n",
       "      <td>87</td>\n",
       "      <td>Searching for Bobby Fischer</td>\n",
       "      <td>1.059556</td>\n",
       "    </tr>\n",
       "    <tr>\n",
       "      <th>9</th>\n",
       "      <td>166</td>\n",
       "      <td>Manon of the Spring</td>\n",
       "      <td>1.070490</td>\n",
       "    </tr>\n",
       "    <tr>\n",
       "      <th>10</th>\n",
       "      <td>487</td>\n",
       "      <td>Roman Holiday</td>\n",
       "      <td>1.073037</td>\n",
       "    </tr>\n",
       "  </tbody>\n",
       "</table>\n",
       "</div>"
      ],
      "text/plain": [
       "    movie_id                           movie_name  distance\n",
       "0         50                           Star Wars   0.000000\n",
       "1        172            Empire Strikes Back, The   0.322864\n",
       "2        174             Raiders of the Lost Ark   0.501493\n",
       "3        181                  Return of the Jedi   0.660750\n",
       "4        210  Indiana Jones and the Last Crusade   0.862648\n",
       "5         12                 Usual Suspects, The   0.953355\n",
       "6        204                  Back to the Future   1.005424\n",
       "7        613                      My Man Godfrey   1.028646\n",
       "8         87         Searching for Bobby Fischer   1.059556\n",
       "9        166                 Manon of the Spring   1.070490\n",
       "10       487                       Roman Holiday   1.073037"
      ]
     },
     "execution_count": 583,
     "metadata": {},
     "output_type": "execute_result"
    }
   ],
   "source": [
    "movie3"
   ]
  }
 ],
 "metadata": {
  "kernelspec": {
   "display_name": "Python 3",
   "language": "python",
   "name": "python3"
  },
  "language_info": {
   "codemirror_mode": {
    "name": "ipython",
    "version": 3
   },
   "file_extension": ".py",
   "mimetype": "text/x-python",
   "name": "python",
   "nbconvert_exporter": "python",
   "pygments_lexer": "ipython3",
   "version": "3.7.3"
  }
 },
 "nbformat": 4,
 "nbformat_minor": 2
}
